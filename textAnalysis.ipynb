{
 "cells": [
  {
   "cell_type": "code",
   "execution_count": 1,
   "metadata": {},
   "outputs": [],
   "source": [
    "#typical imports\n",
    "import pandas as pd\n",
    "import numpy as np\n",
    "import matplotlib.pyplot as plt\n",
    "\n",
    "df = pd.read_csv(\"Questions.csv\")"
   ]
  },
  {
   "cell_type": "code",
   "execution_count": 2,
   "metadata": {},
   "outputs": [
    {
     "data": {
      "text/html": [
       "<div>\n",
       "<style scoped>\n",
       "    .dataframe tbody tr th:only-of-type {\n",
       "        vertical-align: middle;\n",
       "    }\n",
       "\n",
       "    .dataframe tbody tr th {\n",
       "        vertical-align: top;\n",
       "    }\n",
       "\n",
       "    .dataframe thead th {\n",
       "        text-align: right;\n",
       "    }\n",
       "</style>\n",
       "<table border=\"1\" class=\"dataframe\">\n",
       "  <thead>\n",
       "    <tr style=\"text-align: right;\">\n",
       "      <th></th>\n",
       "      <th>Id</th>\n",
       "      <th>OwnerUserId</th>\n",
       "      <th>CreationDate</th>\n",
       "      <th>Score</th>\n",
       "      <th>Title</th>\n",
       "      <th>Body</th>\n",
       "    </tr>\n",
       "  </thead>\n",
       "  <tbody>\n",
       "    <tr>\n",
       "      <th>0</th>\n",
       "      <td>77434</td>\n",
       "      <td>14008.0</td>\n",
       "      <td>2008-09-16T21:40:29Z</td>\n",
       "      <td>171</td>\n",
       "      <td>How to access the last value in a vector?</td>\n",
       "      <td>&lt;p&gt;Suppose I have a vector that is nested in a...</td>\n",
       "    </tr>\n",
       "    <tr>\n",
       "      <th>1</th>\n",
       "      <td>79709</td>\n",
       "      <td>NaN</td>\n",
       "      <td>2008-09-17T03:39:16Z</td>\n",
       "      <td>3</td>\n",
       "      <td>Worse sin: side effects or passing massive obj...</td>\n",
       "      <td>&lt;p&gt;I have a function inside a loop inside a fu...</td>\n",
       "    </tr>\n",
       "    <tr>\n",
       "      <th>2</th>\n",
       "      <td>95007</td>\n",
       "      <td>15842.0</td>\n",
       "      <td>2008-09-18T17:59:19Z</td>\n",
       "      <td>56</td>\n",
       "      <td>Explain the quantile() function in R</td>\n",
       "      <td>&lt;p&gt;I've been mystified by the R quantile funct...</td>\n",
       "    </tr>\n",
       "    <tr>\n",
       "      <th>3</th>\n",
       "      <td>103312</td>\n",
       "      <td>NaN</td>\n",
       "      <td>2008-09-19T16:09:26Z</td>\n",
       "      <td>4</td>\n",
       "      <td>How to test for the EOF flag in R?</td>\n",
       "      <td>&lt;p&gt;How can I test for the &lt;code&gt;EOF&lt;/code&gt; fla...</td>\n",
       "    </tr>\n",
       "    <tr>\n",
       "      <th>4</th>\n",
       "      <td>255697</td>\n",
       "      <td>1941213.0</td>\n",
       "      <td>2008-11-01T15:48:30Z</td>\n",
       "      <td>4</td>\n",
       "      <td>Is there an R package for learning a Dirichlet...</td>\n",
       "      <td>&lt;p&gt;I'm looking for a an &lt;code&gt;R&lt;/code&gt; package...</td>\n",
       "    </tr>\n",
       "  </tbody>\n",
       "</table>\n",
       "</div>"
      ],
      "text/plain": [
       "       Id  OwnerUserId          CreationDate  Score  \\\n",
       "0   77434      14008.0  2008-09-16T21:40:29Z    171   \n",
       "1   79709          NaN  2008-09-17T03:39:16Z      3   \n",
       "2   95007      15842.0  2008-09-18T17:59:19Z     56   \n",
       "3  103312          NaN  2008-09-19T16:09:26Z      4   \n",
       "4  255697    1941213.0  2008-11-01T15:48:30Z      4   \n",
       "\n",
       "                                               Title  \\\n",
       "0          How to access the last value in a vector?   \n",
       "1  Worse sin: side effects or passing massive obj...   \n",
       "2               Explain the quantile() function in R   \n",
       "3                 How to test for the EOF flag in R?   \n",
       "4  Is there an R package for learning a Dirichlet...   \n",
       "\n",
       "                                                Body  \n",
       "0  <p>Suppose I have a vector that is nested in a...  \n",
       "1  <p>I have a function inside a loop inside a fu...  \n",
       "2  <p>I've been mystified by the R quantile funct...  \n",
       "3  <p>How can I test for the <code>EOF</code> fla...  \n",
       "4  <p>I'm looking for a an <code>R</code> package...  "
      ]
     },
     "execution_count": 2,
     "metadata": {},
     "output_type": "execute_result"
    }
   ],
   "source": [
    "df.head()"
   ]
  },
  {
   "cell_type": "code",
   "execution_count": 3,
   "metadata": {},
   "outputs": [
    {
     "data": {
      "text/plain": [
       "(189930, 6)"
      ]
     },
     "execution_count": 3,
     "metadata": {},
     "output_type": "execute_result"
    }
   ],
   "source": [
    "df.shape"
   ]
  },
  {
   "cell_type": "code",
   "execution_count": 47,
   "metadata": {},
   "outputs": [],
   "source": [
    "#will perform analysis on the titles\n",
    "sentences = df['Title']"
   ]
  },
  {
   "cell_type": "code",
   "execution_count": 54,
   "metadata": {},
   "outputs": [
    {
     "data": {
      "text/plain": [
       "pandas.core.series.Series"
      ]
     },
     "execution_count": 54,
     "metadata": {},
     "output_type": "execute_result"
    }
   ],
   "source": [
    "type(sentences)"
   ]
  },
  {
   "cell_type": "markdown",
   "metadata": {},
   "source": [
    "the title and body columns are the ones we will focus on. "
   ]
  },
  {
   "cell_type": "markdown",
   "metadata": {},
   "source": [
    "## Preprocessing"
   ]
  },
  {
   "cell_type": "markdown",
   "metadata": {},
   "source": [
    "since the body is full of html tags and other symbols my hypothesis is the removing stop words and tokenization combined will provide better results. I do not think the stemming is as applicable in this circumstance because many mathematical terms can be derived from another so I wouldn't want to lose any of that accuracy."
   ]
  },
  {
   "cell_type": "code",
   "execution_count": 50,
   "metadata": {},
   "outputs": [],
   "source": [
    "#going to use the nltk library\n",
    "import nltk\n",
    "import string"
   ]
  },
  {
   "cell_type": "markdown",
   "metadata": {},
   "source": [
    "We want to remove all irrevlenvant characters i.e. characters that are not words. "
   ]
  },
  {
   "cell_type": "code",
   "execution_count": 56,
   "metadata": {},
   "outputs": [],
   "source": [
    "#method to remove punctuation\n",
    "def remove_punctuation(text):\n",
    "    for p in string.punctuation:\n",
    "        text = text.replace(p, '')\n",
    "    return text"
   ]
  },
  {
   "cell_type": "code",
   "execution_count": 57,
   "metadata": {},
   "outputs": [],
   "source": [
    "sentences = sentences.apply(remove_punctuation)"
   ]
  },
  {
   "cell_type": "code",
   "execution_count": 58,
   "metadata": {},
   "outputs": [
    {
     "name": "stdout",
     "output_type": "stream",
     "text": [
      "0                  How to access the last value in a vector\n",
      "1         Worse sin side effects or passing massive objects\n",
      "2                        Explain the quantile function in R\n",
      "3                         How to test for the EOF flag in R\n",
      "4         Is there an R package for learning a Dirichlet...\n",
      "                                ...                        \n",
      "189925    GET command in httr not returning anything aft...\n",
      "189926    Rshiny Discrete value supplied to continuous s...\n",
      "189927    Confidence interval for quantile regression us...\n",
      "189928        Time lag analysis on list of imputed datasets\n",
      "189929    How do I conditionally format text in Shiny gi...\n",
      "Name: Title, Length: 189930, dtype: object\n"
     ]
    }
   ],
   "source": [
    "print(sentences)"
   ]
  },
  {
   "cell_type": "code",
   "execution_count": 6,
   "metadata": {},
   "outputs": [],
   "source": [
    "stop_words = set(nltk.corpus.stopwords.words('english'))"
   ]
  },
  {
   "cell_type": "code",
   "execution_count": 59,
   "metadata": {},
   "outputs": [],
   "source": [
    "sentences_t = sentences.apply(lambda row: nltk.word_tokenize(row))"
   ]
  },
  {
   "cell_type": "code",
   "execution_count": 60,
   "metadata": {},
   "outputs": [],
   "source": [
    "sentences_swr = sentences_t.apply(lambda row: ' '.join([word for word in row if word not in stop_words]))"
   ]
  },
  {
   "cell_type": "code",
   "execution_count": 61,
   "metadata": {},
   "outputs": [
    {
     "name": "stdout",
     "output_type": "stream",
     "text": [
      "0                              How access last value vector\n",
      "1            Worse sin side effects passing massive objects\n",
      "2                               Explain quantile function R\n",
      "3                                       How test EOF flag R\n",
      "4         Is R package learning Dirichlet prior counts data\n",
      "                                ...                        \n",
      "189925          GET command httr returning anything minutes\n",
      "189926      Rshiny Discrete value supplied continuous scale\n",
      "189927    Confidence interval quantile regression using ...\n",
      "189928              Time lag analysis list imputed datasets\n",
      "189929    How I conditionally format text Shiny given lo...\n",
      "Name: Title, Length: 189930, dtype: object\n"
     ]
    }
   ],
   "source": [
    "print(sentences_swr)"
   ]
  },
  {
   "cell_type": "code",
   "execution_count": 62,
   "metadata": {},
   "outputs": [],
   "source": [
    "sentences_swr_token = sentences_swr.apply(lambda row: nltk.word_tokenize(row))"
   ]
  },
  {
   "cell_type": "code",
   "execution_count": 63,
   "metadata": {},
   "outputs": [
    {
     "name": "stdout",
     "output_type": "stream",
     "text": [
      "0                        [How, access, last, value, vector]\n",
      "1         [Worse, sin, side, effects, passing, massive, ...\n",
      "2                          [Explain, quantile, function, R]\n",
      "3                                 [How, test, EOF, flag, R]\n",
      "4         [Is, R, package, learning, Dirichlet, prior, c...\n",
      "                                ...                        \n",
      "189925    [GET, command, httr, returning, anything, minu...\n",
      "189926    [Rshiny, Discrete, value, supplied, continuous...\n",
      "189927    [Confidence, interval, quantile, regression, u...\n",
      "189928       [Time, lag, analysis, list, imputed, datasets]\n",
      "189929    [How, I, conditionally, format, text, Shiny, g...\n",
      "Name: Title, Length: 189930, dtype: object\n"
     ]
    }
   ],
   "source": [
    "print(sentences_swr_token)"
   ]
  },
  {
   "cell_type": "markdown",
   "metadata": {},
   "source": [
    "## Learning Word Vectors"
   ]
  },
  {
   "cell_type": "code",
   "execution_count": 9,
   "metadata": {},
   "outputs": [],
   "source": [
    "from gensim.models import Word2Vec, KeyedVectors\n",
    "from sklearn.decomposition import PCA"
   ]
  },
  {
   "cell_type": "code",
   "execution_count": 71,
   "metadata": {},
   "outputs": [],
   "source": [
    "# create and save word vector model\n",
    "model = Word2Vec(sentences_swr_token, min_count=1)\n",
    "word_vectors = model.wv"
   ]
  },
  {
   "cell_type": "code",
   "execution_count": 73,
   "metadata": {},
   "outputs": [],
   "source": [
    "word_vectors.save('vectors')"
   ]
  },
  {
   "cell_type": "code",
   "execution_count": 74,
   "metadata": {},
   "outputs": [],
   "source": [
    "embeddings = KeyedVectors.load('vectors')"
   ]
  },
  {
   "cell_type": "code",
   "execution_count": 76,
   "metadata": {},
   "outputs": [
    {
     "data": {
      "text/plain": [
       "array([ 1.1892891 , -0.44767565,  0.37047789,  1.3280928 ,  0.2890859 ,\n",
       "       -0.45778224,  0.4455568 ,  1.0117848 , -0.8839258 , -0.15524048,\n",
       "        0.3934442 , -1.4533864 , -2.0713816 ,  0.8332579 , -0.8350278 ,\n",
       "       -0.4798759 ,  0.9126028 ,  0.34735987, -1.2214557 , -1.0737244 ,\n",
       "        0.5645107 ,  0.17325312,  0.16622   , -0.94628173,  0.12924652,\n",
       "       -1.1194444 , -0.53174835, -0.31515577,  0.11463273,  0.2134124 ,\n",
       "       -0.64194745,  0.29631203,  1.8035247 , -0.27188075, -0.34696975,\n",
       "        0.09025238,  1.1750368 , -1.3671399 , -0.7742985 , -1.7369684 ,\n",
       "       -1.1717737 , -0.4586923 , -0.2998911 , -0.41640532, -0.05557929,\n",
       "        0.95356685,  0.07469657,  0.40770763, -0.9044978 ,  0.41691643,\n",
       "       -0.55010253,  0.08515386, -0.468659  ,  0.00778967,  1.1612977 ,\n",
       "        0.28976533,  0.24886583,  0.5411035 , -0.6854156 ,  1.4446943 ,\n",
       "        0.19880776,  0.13467711, -0.3723376 ,  0.49631882, -0.25584975,\n",
       "        0.43098533,  0.3290041 ,  0.26512018,  0.37236983,  0.8292836 ,\n",
       "        0.18012531,  0.6912244 , -0.0213881 , -0.4758555 ,  0.44554728,\n",
       "        0.20371656,  1.464637  ,  0.1409494 , -0.25978714, -0.41393846,\n",
       "        0.2949012 ,  0.00445491,  0.5853995 , -0.30974182,  0.553184  ,\n",
       "       -0.17176355,  0.33181456,  0.7876384 , -0.01707486,  0.06624173,\n",
       "       -0.11598469,  0.39608163,  0.7066244 ,  0.01461797, -0.04572681,\n",
       "       -0.07136919, -0.9345235 , -0.96266687,  0.8304846 ,  1.0539292 ],\n",
       "      dtype=float32)"
      ]
     },
     "execution_count": 76,
     "metadata": {},
     "output_type": "execute_result"
    }
   ],
   "source": [
    "embeddings['R']"
   ]
  },
  {
   "cell_type": "markdown",
   "metadata": {},
   "source": [
    "All other word embeddings can be viewed in this manner."
   ]
  },
  {
   "cell_type": "markdown",
   "metadata": {},
   "source": [
    "## Topic Modelling"
   ]
  },
  {
   "cell_type": "code",
   "execution_count": 80,
   "metadata": {},
   "outputs": [],
   "source": [
    "import gensim\n",
    "from gensim import corpora"
   ]
  },
  {
   "cell_type": "code",
   "execution_count": 81,
   "metadata": {},
   "outputs": [],
   "source": [
    "#creating vocabulary dictionary\n",
    "dictionary = corpora.Dictionary(sentences_swr_token)\n",
    "doc_term_matrix = [dictionary.doc2bow(x) for x in sentences_swr_token]"
   ]
  },
  {
   "cell_type": "code",
   "execution_count": 82,
   "metadata": {},
   "outputs": [],
   "source": [
    "#creating LDA model\n",
    "LDA = gensim.models.ldamodel.LdaModel\n",
    "ldamodel = LDA(corpus=doc_term_matrix, num_topics=10, id2word=dictionary, random_state=1, passes=50)"
   ]
  },
  {
   "cell_type": "code",
   "execution_count": 83,
   "metadata": {},
   "outputs": [
    {
     "data": {
      "text/plain": [
       "[(0,\n",
       "  '0.095*\"How\" + 0.057*\"I\" + 0.057*\"R\" + 0.028*\"use\" + 0.025*\"shiny\" + 0.022*\"object\" + 0.020*\"get\" + 0.016*\"set\" + 0.014*\"model\" + 0.013*\"way\"'),\n",
       " (1,\n",
       "  '0.071*\"R\" + 0.067*\"variable\" + 0.061*\"loop\" + 0.023*\"name\" + 0.023*\"r\" + 0.022*\"output\" + 0.019*\"input\" + 0.019*\"Using\" + 0.015*\"using\" + 0.015*\"Can\"'),\n",
       " (2,\n",
       "  '0.092*\"R\" + 0.044*\"file\" + 0.028*\"How\" + 0.027*\"table\" + 0.021*\"date\" + 0.021*\"files\" + 0.019*\"using\" + 0.017*\"text\" + 0.014*\"format\" + 0.012*\"csv\"'),\n",
       " (3,\n",
       "  '0.063*\"R\" + 0.051*\"matrix\" + 0.034*\"list\" + 0.031*\"How\" + 0.026*\"vector\" + 0.020*\"elements\" + 0.016*\"working\" + 0.016*\"1\" + 0.016*\"inside\" + 0.015*\"length\"'),\n",
       " (4,\n",
       "  '0.049*\"R\" + 0.047*\"plot\" + 0.035*\"Shiny\" + 0.034*\"ggplot2\" + 0.030*\"How\" + 0.029*\"ggplot\" + 0.023*\"dplyr\" + 0.022*\"using\" + 0.021*\"time\" + 0.013*\"datatable\"'),\n",
       " (5,\n",
       "  '0.106*\"data\" + 0.060*\"column\" + 0.051*\"R\" + 0.044*\"values\" + 0.042*\"dataframe\" + 0.040*\"columns\" + 0.033*\"frame\" + 0.030*\"rows\" + 0.029*\"How\" + 0.028*\"based\"'),\n",
       " (6,\n",
       "  '0.072*\"R\" + 0.023*\"variables\" + 0.022*\"regression\" + 0.021*\"two\" + 0.015*\"calculate\" + 0.014*\"group\" + 0.013*\"dates\" + 0.013*\"multiple\" + 0.011*\"conditions\" + 0.011*\"different\"'),\n",
       " (7,\n",
       "  '0.068*\"R\" + 0.054*\"string\" + 0.031*\"character\" + 0.020*\"bar\" + 0.017*\"numbers\" + 0.017*\"dataframes\" + 0.016*\"characters\" + 0.016*\"strings\" + 0.015*\"chart\" + 0.015*\"match\"'),\n",
       " (8,\n",
       "  '0.097*\"function\" + 0.074*\"R\" + 0.033*\"row\" + 0.017*\"using\" + 0.015*\"values\" + 0.015*\"apply\" + 0.015*\"argument\" + 0.014*\"first\" + 0.014*\"list\" + 0.013*\"within\"'),\n",
       " (9,\n",
       "  '0.112*\"R\" + 0.065*\"package\" + 0.053*\"Error\" + 0.051*\"error\" + 0.035*\"using\" + 0.025*\"function\" + 0.016*\"Data\" + 0.010*\"plotly\" + 0.007*\"found\" + 0.007*\"code\"')]"
      ]
     },
     "execution_count": 83,
     "metadata": {},
     "output_type": "execute_result"
    }
   ],
   "source": [
    "#checking topics\n",
    "ldamodel.print_topics()"
   ]
  },
  {
   "cell_type": "code",
   "execution_count": 84,
   "metadata": {},
   "outputs": [],
   "source": [
    "#visualization libraries\n",
    "import pyLDAvis\n",
    "import pyLDAvis.gensim_models\n",
    "import seaborn as sns"
   ]
  },
  {
   "cell_type": "markdown",
   "metadata": {},
   "source": [
    "Downloading my file will allow you scroll over each topic to view the most relevant tokens."
   ]
  },
  {
   "cell_type": "code",
   "execution_count": 85,
   "metadata": {},
   "outputs": [
    {
     "name": "stderr",
     "output_type": "stream",
     "text": [
      "/home/anthony/anaconda3/envs/condaENV/lib/python3.8/site-packages/pyLDAvis/_prepare.py:246: FutureWarning: In a future version of pandas all arguments of DataFrame.drop except for the argument 'labels' will be keyword-only\n",
      "  default_term_info = default_term_info.sort_values(\n",
      "/home/anthony/anaconda3/envs/condaENV/lib/python3.8/site-packages/past/builtins/misc.py:45: DeprecationWarning: the imp module is deprecated in favour of importlib; see the module's documentation for alternative uses\n",
      "  from imp import reload\n",
      "/home/anthony/anaconda3/envs/condaENV/lib/python3.8/site-packages/past/builtins/misc.py:45: DeprecationWarning: the imp module is deprecated in favour of importlib; see the module's documentation for alternative uses\n",
      "  from imp import reload\n",
      "/home/anthony/anaconda3/envs/condaENV/lib/python3.8/site-packages/past/builtins/misc.py:45: DeprecationWarning: the imp module is deprecated in favour of importlib; see the module's documentation for alternative uses\n",
      "  from imp import reload\n",
      "/home/anthony/anaconda3/envs/condaENV/lib/python3.8/site-packages/past/builtins/misc.py:45: DeprecationWarning: the imp module is deprecated in favour of importlib; see the module's documentation for alternative uses\n",
      "  from imp import reload\n",
      "/home/anthony/anaconda3/envs/condaENV/lib/python3.8/site-packages/past/builtins/misc.py:45: DeprecationWarning: the imp module is deprecated in favour of importlib; see the module's documentation for alternative uses\n",
      "  from imp import reload\n",
      "/home/anthony/anaconda3/envs/condaENV/lib/python3.8/site-packages/past/builtins/misc.py:45: DeprecationWarning: the imp module is deprecated in favour of importlib; see the module's documentation for alternative uses\n",
      "  from imp import reload\n",
      "/home/anthony/anaconda3/envs/condaENV/lib/python3.8/site-packages/past/builtins/misc.py:45: DeprecationWarning: the imp module is deprecated in favour of importlib; see the module's documentation for alternative uses\n",
      "  from imp import reload\n",
      "/home/anthony/anaconda3/envs/condaENV/lib/python3.8/site-packages/past/builtins/misc.py:45: DeprecationWarning: the imp module is deprecated in favour of importlib; see the module's documentation for alternative uses\n",
      "  from imp import reload\n"
     ]
    },
    {
     "data": {
      "text/html": [
       "\n",
       "<link rel=\"stylesheet\" type=\"text/css\" href=\"https://cdn.jsdelivr.net/gh/bmabey/pyLDAvis@3.3.1/pyLDAvis/js/ldavis.v1.0.0.css\">\n",
       "\n",
       "\n",
       "<div id=\"ldavis_el84051406590792144649428257817\"></div>\n",
       "<script type=\"text/javascript\">\n",
       "\n",
       "var ldavis_el84051406590792144649428257817_data = {\"mdsDat\": {\"x\": [0.17268715816104338, 0.20199422624090607, 0.1819623153496794, 0.07255817160750568, -0.16801152226350072, -0.10668957589438394, 0.05959898705596261, -0.07735464432618136, -0.14174250314738576, -0.1950026127836453], \"y\": [-0.06769567354586184, -0.01419120462663294, 0.07128991937191523, -0.032782681832345485, -0.15101165654706017, -0.18660978970963643, 0.13849920519010003, 0.019384183503118366, -0.08569549918050276, 0.30881319737690566], \"topics\": [1, 2, 3, 4, 5, 6, 7, 8, 9, 10], \"cluster\": [1, 1, 1, 1, 1, 1, 1, 1, 1, 1], \"Freq\": [16.16596590715401, 13.333687371452244, 11.182798986474154, 10.115706987502366, 9.989372266733922, 8.892083447773045, 8.43981842360785, 8.006973883764342, 7.261193874359432, 6.612398851178636]}, \"tinfo\": {\"Term\": [\"data\", \"function\", \"column\", \"How\", \"package\", \"I\", \"variable\", \"plot\", \"dataframe\", \"Error\", \"error\", \"values\", \"columns\", \"loop\", \"matrix\", \"file\", \"frame\", \"string\", \"Shiny\", \"ggplot2\", \"rows\", \"based\", \"list\", \"ggplot\", \"value\", \"row\", \"use\", \"shiny\", \"dplyr\", \"R\", \"data\", \"column\", \"dataframe\", \"columns\", \"frame\", \"rows\", \"based\", \"new\", \"another\", \"specific\", \"NA\", \"frames\", \"missing\", \"numeric\", \"Add\", \"levels\", \"sum\", \"select\", \"difference\", \"NAs\", \"pattern\", \"Replace\", \"combine\", \"matrices\", \"trying\", \"regex\", \"Merge\", \"calculation\", \"returning\", \"grouping\", \"values\", \"value\", \"condition\", \"one\", \"subset\", \"factor\", \"remove\", \"conditional\", \"multiple\", \"two\", \"names\", \"How\", \"R\", \"list\", \"r\", \"different\", \"using\", \"vector\", \"plot\", \"Shiny\", \"ggplot2\", \"ggplot\", \"dplyr\", \"axis\", \"series\", \"legend\", \"graph\", \"points\", \"plots\", \"labels\", \"color\", \"x\", \"lines\", \"Plot\", \"plotting\", \"Plotting\", \"Use\", \"filter\", \"label\", \"matching\", \"range\", \"show\", \"categorical\", \"point\", \"level\", \"barplot\", \"scale\", \"grouped\", \"time\", \"line\", \"datatable\", \"size\", \"How\", \"R\", \"using\", \"multiple\", \"change\", \"r\", \"variables\", \"different\", \"I\", \"use\", \"shiny\", \"object\", \"set\", \"Is\", \"dataset\", \"app\", \"map\", \"groups\", \"mean\", \"RStudio\", \"type\", \"class\", \"What\", \"possible\", \"custom\", \"reactive\", \"image\", \"Time\", \"generate\", \"Rmarkdown\", \"method\", \"leaflet\", \"Excel\", \"grid\", \"errors\", \"defined\", \"standard\", \"created\", \"get\", \"way\", \"model\", \"How\", \"add\", \"make\", \"R\", \"datatable\", \"using\", \"create\", \"code\", \"file\", \"date\", \"files\", \"format\", \"csv\", \"Convert\", \"run\", \"script\", \"read\", \"doesnt\", \"packages\", \"server\", \"write\", \"Get\", \"factors\", \"times\", \"Unable\", \"command\", \"ID\", \"HTML\", \"pdf\", \"installing\", \"caret\", \"default\", \"empty\", \"update\", \"version\", \"wrong\", \"year\", \"combinations\", \"table\", \"text\", \"R\", \"without\", \"How\", \"using\", \"output\", \"results\", \"r\", \"multiple\", \"time\", \"convert\", \"code\", \"package\", \"Error\", \"error\", \"Data\", \"plotly\", \"found\", \"running\", \"analysis\", \"issue\", \"Loop\", \"raster\", \"display\", \"statement\", \"Extracting\", \"used\", \"html\", \"vs\", \"For\", \"Package\", \"environment\", \"Windows\", \"XML\", \"formula\", \"Rs\", \"unable\", \"Frame\", \"installation\", \"tree\", \"summary\", \"local\", \"R\", \"install\", \"using\", \"function\", \"Creating\", \"code\", \"Using\", \"apply\", \"argument\", \"first\", \"certain\", \"Extract\", \"result\", \"replace\", \"unique\", \"return\", \"arguments\", \"Change\", \"Function\", \"split\", \"lapply\", \"returns\", \"sequence\", \"parameters\", \"pass\", \"models\", \"Removing\", \"expression\", \"predict\", \"coordinates\", \"changing\", \"parameter\", \"Count\", \"programming\", \"converting\", \"aggregate\", \"connect\", \"function\", \"row\", \"functions\", \"within\", \"R\", \"test\", \"names\", \"list\", \"values\", \"value\", \"using\", \"lists\", \"Using\", \"multiple\", \"number\", \"matrix\", \"elements\", \"working\", \"1\", \"inside\", \"length\", \"work\", \"vectors\", \"element\", \"count\", \"every\", \"0\", \"save\", \"last\", \"load\", \"frequency\", \"igraph\", \"correlation\", \"Calculating\", \"separate\", \"second\", \"existing\", \"knitr\", \"markdown\", \"directory\", \"gives\", \"network\", \"zero\", \"selected\", \"Rcpp\", \"find\", \"2\", \"vector\", \"list\", \"number\", \"R\", \"How\", \"Multiple\", \"row\", \"table\", \"regression\", \"calculate\", \"dates\", \"conditions\", \"linear\", \"several\", \"per\", \"SQL\", \"across\", \"merge\", \"n\", \"interval\", \"information\", \"getting\", \"according\", \"loops\", \"Server\", \"API\", \"excel\", \"intervals\", \"cell\", \"space\", \"JSON\", \"Regression\", \"reference\", \"duplicate\", \"fails\", \"showing\", \"print\", \"similar\", \"variables\", \"group\", \"two\", \"R\", \"different\", \"multiple\", \"model\", \"using\", \"tables\", \"find\", \"variable\", \"loop\", \"input\", \"Can\", \"nested\", \"random\", \"distribution\", \"message\", \"page\", \"Python\", \"ifelse\", \"must\", \"word\", \"via\", \"dynamic\", \"access\", \"average\", \"sample\", \"document\", \"parallel\", \"CSV\", \"Subset\", \"Cant\", \"open\", \"cant\", \"X\", \"web\", \"python\", \"Dataframe\", \"connection\", \"name\", \"output\", \"Using\", \"r\", \"R\", \"using\", \"variables\", \"string\", \"character\", \"bar\", \"numbers\", \"characters\", \"strings\", \"chart\", \"match\", \"Converting\", \"words\", \"Remove\", \"previous\", \"3\", \"Rstudio\", \"colors\", \"Apply\", \"Split\", \"Date\", \"Conditional\", \"keep\", \"import\", \"database\", \"stacked\", \"query\", \"Not\", \"max\", \"percentage\", \"List\", \"width\", \"equivalent\", \"dataframes\", \"R\", \"vector\", \"array\"], \"Freq\": [20159.0, 13224.0, 11542.0, 29303.0, 7630.0, 7587.0, 5739.0, 7337.0, 8033.0, 6300.0, 6065.0, 9898.0, 7614.0, 5229.0, 5127.0, 5260.0, 6344.0, 4187.0, 5445.0, 5310.0, 5687.0, 5377.0, 7076.0, 4602.0, 6199.0, 4553.0, 3691.0, 3361.0, 3569.0, 81550.0, 20158.78819796861, 11541.283564004665, 8032.37631376224, 7613.712031757304, 6343.479958768024, 5686.183984586657, 5376.501956525408, 2803.722887385219, 2796.2058827550827, 2500.069469655578, 1765.2390163235082, 1409.4643274824864, 1367.1858215581524, 1285.1498875686207, 1137.3826136852472, 1078.5388535240638, 1016.8063175692853, 952.927158228277, 789.7224386178576, 668.0854104165481, 663.2379496877498, 617.4742700990957, 556.9158160523037, 554.2812105668851, 542.2282571911092, 504.35274733809575, 481.8469844749208, 472.3808963063226, 436.75584716725854, 430.0368697394121, 8335.725687261744, 4880.999474437149, 1295.2658480536827, 3240.445440820259, 1271.0006292376845, 1569.7460440979646, 955.9803134901542, 721.0921436718387, 3189.0989490847996, 2290.6039759205937, 1440.9794009544796, 5569.436334323067, 9828.686694565748, 2297.5109362503777, 1783.3141790997315, 1394.6397709140865, 1604.1122878929834, 1241.90608566451, 7336.260858962001, 5444.729595968451, 5309.440382259675, 4601.106209196377, 3568.5000475883844, 1910.564402052364, 1753.3629687663552, 1665.79504259914, 1632.126430919262, 1615.0100391289775, 1613.1072238413603, 1583.429464756621, 1559.8671120297722, 1558.8421581919952, 1293.7599705701516, 1211.6132714803698, 1126.9657084908013, 969.8858500697972, 944.0730424684879, 886.2729933046435, 867.2336948437436, 845.9621997359983, 819.5914529623004, 782.1539471410646, 732.5321907507771, 691.6098565463427, 688.8198673795396, 674.8408110380407, 668.6289807070009, 665.7054645020955, 3257.305056284293, 1674.2548347133197, 2089.3587925740912, 1203.9771527429073, 4759.028292526574, 7684.9463709410065, 3407.2295959617036, 1646.804579397645, 1048.788890698576, 1172.6860702686436, 1079.0701978616344, 1013.6123987268073, 7586.869877970863, 3690.7742156609847, 3360.76132283858, 2899.2358947965417, 2056.856242708178, 1492.090536154248, 1457.8854645013448, 1439.4090680119557, 1430.1816933785717, 1260.001560760941, 1222.8116322979959, 1116.1410069741678, 1095.731242914437, 1030.3745264562365, 1025.6442393267903, 971.783305040609, 889.38739548124, 725.2844746232998, 694.5879749731681, 631.7793580095133, 631.4536042077416, 622.6104062780895, 609.6848004528338, 603.6255460482721, 534.6244704635864, 507.42987030584413, 468.4342436877884, 441.44024932604003, 432.5988348323425, 400.07093095023754, 2624.304359933371, 1729.607060637448, 1889.864278599411, 12482.735137298445, 1585.2251285740238, 1237.1732115556415, 7480.140706749492, 937.3539509419702, 1437.1000719309059, 813.1049198807768, 766.3747160211072, 5260.054200935234, 2512.2329459693096, 2494.450861509465, 1660.7377214632395, 1475.381525818683, 1204.0674998023478, 1097.4202754652615, 1059.5546024152293, 993.1163886508136, 873.8591780124103, 797.2646844192004, 786.2537127829373, 759.567680046612, 751.7764888792692, 731.8955029682534, 705.7926900255693, 688.151904523742, 678.3842524590051, 648.6966738255312, 616.2522078844197, 609.9621790722284, 607.3063705861329, 602.1723786426613, 596.3886896398674, 592.9858324501465, 565.0340058198387, 562.2644349836863, 535.3178892472063, 518.3888277095001, 510.8305016753299, 3167.554148856857, 1996.0587290939238, 10992.511539322893, 1062.2600880546747, 3397.4606821148855, 2301.6594479386486, 1146.7085785331808, 792.5825709938277, 1080.0066808864817, 1027.6212604214638, 895.6679489986687, 722.4806532624704, 691.8755214740634, 7629.841670286261, 6299.219043128598, 6064.717951677018, 1850.0793070615996, 1196.779697611934, 834.6790116292126, 807.2701941002338, 795.4213715224822, 776.6179736447588, 774.9121396027616, 771.064619164999, 748.6655767055789, 687.7196400120087, 661.4399514569835, 635.5971040813337, 609.0982258500376, 606.5493630431141, 600.4531982397367, 575.8302869896386, 567.2012453933214, 543.1496556051829, 542.9924872683881, 481.04756203772774, 453.5197008925887, 437.7086541066349, 418.5719945318944, 416.86937417312066, 416.0188193466282, 405.4422582494781, 403.57898119690617, 13245.334830160973, 685.7836293425488, 4117.726044240274, 2987.0931764074458, 814.3790261949347, 826.298384999336, 569.4719185960753, 1553.9834521007224, 1526.3110015199914, 1468.4741352880492, 1216.9254205512952, 1160.3096954445498, 1148.1275266398393, 1136.0818877895395, 1132.4541617157834, 1099.7744065964537, 971.8715609309265, 937.3084552871765, 925.0069694735968, 849.9178417674486, 839.8799560934393, 825.6637256899909, 676.4250428221256, 671.2808660262218, 640.6591337082306, 616.5464376265309, 593.2707210217999, 590.6630086726344, 572.6899062034532, 549.0955545045456, 548.2832697363796, 546.1829480773887, 542.601775197257, 501.72455036531056, 473.9089193739364, 464.84019099450785, 462.909847172742, 10236.446389713128, 3479.4678441783103, 1117.6433022845283, 1340.78019218887, 7795.7712025081855, 762.5365682266938, 1014.5838226787839, 1431.2123136256641, 1561.6500589246984, 1318.156024693226, 1808.729667073515, 738.7544878404711, 970.326992471033, 926.3752030425139, 794.1375802248543, 5127.0344492491995, 1972.2521653209562, 1611.1631032339928, 1607.040862838871, 1596.7478862586897, 1529.092293407397, 1495.851671176025, 1333.6981172439273, 1333.2112421116894, 1248.457095879451, 1124.3637174419819, 883.5934287396402, 836.9980397733245, 814.3243252022547, 760.8659462284463, 749.7521510864324, 721.0556658137707, 717.2968412704525, 678.9457010280639, 677.4570420203048, 636.1124783600254, 610.3284717740225, 609.1363935188849, 606.7888106601065, 588.0253671105713, 526.3197689639833, 524.2115857174148, 517.483194173553, 507.2212216532702, 505.9785529411126, 1477.2090413509147, 1300.986420561362, 2575.2092826143307, 3346.82551530646, 1376.0149459442557, 6268.44910006396, 3094.2226292530518, 736.4990293981615, 1073.4797429448017, 719.897562067384, 2111.8727383518494, 1392.9112668300982, 1244.6245331334578, 1068.0225230350002, 804.4668709809227, 803.0818597470137, 780.9611334941864, 739.7327651340754, 739.1790952906478, 706.5893238951343, 670.8373288789945, 666.3077071895117, 664.151591589601, 650.3500475531428, 615.8065798570854, 609.4616132785465, 608.1450732237793, 586.1524827467094, 571.8734017727634, 568.876521739068, 553.249329111998, 545.1949167992817, 533.1884625120691, 504.1801961312584, 501.7259336799203, 499.58417280952744, 482.95835775688914, 479.5632880942679, 479.53871772901954, 476.43457352015406, 2183.5401785558165, 1343.863709976548, 1971.9195856340084, 6822.556707785192, 1055.113305973018, 1200.8635677704374, 812.4687960617824, 1029.312132750805, 567.8317968539747, 565.2102974004624, 5738.847943880809, 5228.131026327206, 1648.8087724119994, 1266.4776345012187, 1092.0286436518747, 1048.6365390136107, 815.5033863748686, 771.2157750108413, 683.1245236337296, 679.6599755850068, 666.4916422233576, 651.0644963692337, 638.1882628782238, 617.8726469949086, 613.8670253648922, 586.4115143113899, 577.9862998471306, 556.6462779376526, 554.5249899775745, 554.3545617823744, 546.7583279489382, 535.0400318535263, 530.4065652110613, 495.76947036605293, 482.5825687966325, 468.0335993410183, 460.1298120962816, 459.4542487864422, 444.26357804290274, 434.04563306704375, 1969.1074015268412, 1881.1270003535428, 1592.8421976077316, 1951.5991389320325, 6097.921463164704, 1297.4650582626057, 768.2734528142335, 4186.699760983606, 2394.3373004740124, 1593.459577440431, 1325.178831155832, 1263.503671923935, 1260.7180671956935, 1168.4105650598494, 1147.0695833814582, 912.8275130553893, 860.4341877601488, 846.1939454071678, 694.1988510494552, 689.4596430051982, 681.5823205434461, 677.0825310873927, 631.6608539893542, 596.8169766640882, 596.0297026005089, 568.7925654595309, 566.4221250723464, 545.9210357286661, 537.926403976886, 518.2706978863278, 499.58077525325695, 486.326680028692, 475.0534245300095, 474.379168840084, 451.0050200742634, 445.35297411693335, 431.00571340048293, 1298.7779136160584, 5333.851671777533, 879.0079647415304, 529.215843737173], \"Total\": [20159.0, 13224.0, 11542.0, 29303.0, 7630.0, 7587.0, 5739.0, 7337.0, 8033.0, 6300.0, 6065.0, 9898.0, 7614.0, 5229.0, 5127.0, 5260.0, 6344.0, 4187.0, 5445.0, 5310.0, 5687.0, 5377.0, 7076.0, 4602.0, 6199.0, 4553.0, 3691.0, 3361.0, 3569.0, 81550.0, 20159.729333560048, 11542.224656053062, 8033.317421950824, 7614.653129975039, 6344.421021496306, 5687.125085944139, 5377.443058616622, 2804.6640009282573, 2797.1469838878297, 2501.010601659383, 1766.1801292724376, 1410.4053827057053, 1368.1269405178139, 1286.0910433139823, 1138.323764033485, 1079.479973668342, 1017.7474262143729, 953.8682993029524, 790.6635844059573, 669.0265361729304, 664.1791135713512, 618.4153618975993, 557.8569467286208, 555.2223439892924, 543.1695564280009, 505.2939150394502, 482.78808450299806, 473.3220454596932, 437.6970409985891, 430.9780123353422, 9898.210303065329, 6199.990067674272, 1467.1137549075959, 4207.560801462285, 1457.581925678936, 1994.618637404997, 1250.223330247721, 821.5881145614197, 7991.292792053516, 5146.205983588712, 2456.3977697491514, 29303.41223841037, 81550.17028703968, 7076.273121307901, 5988.241160654758, 4448.0246547584575, 17003.555937916746, 4696.842857798311, 7337.199369223542, 5445.668171766038, 5310.378880306085, 4602.044717232819, 3569.4386429643614, 1911.5028753489653, 1754.3014770136897, 1666.733525167664, 1633.064944637418, 1615.9485600535854, 1614.0457370550298, 1584.3679591718867, 1560.8056181070253, 1559.780719777762, 1294.6984752022552, 1212.5517827508695, 1127.9042341235056, 970.8243704858785, 945.0116323247447, 887.2115792122428, 868.172205885157, 846.9008056769815, 820.5300150697412, 783.0924983077068, 733.4707746158753, 692.5483843025006, 689.7584674396494, 675.7793098417786, 669.5674851026992, 666.644032025409, 4153.809598201111, 2044.6496156866035, 3027.5503204044926, 1470.1939705219804, 29303.41223841037, 81550.17028703968, 17003.555937916746, 7991.292792053516, 2098.728392317149, 5988.241160654758, 4031.6125138810958, 4448.0246547584575, 7587.806172848202, 3691.7104965118306, 3361.6975926200525, 2900.1721923254113, 2057.7925503943084, 1493.0267976565033, 1458.821767544081, 1440.3453457933, 1431.1179711969153, 1260.9378777310815, 1223.7479306727987, 1117.077314373532, 1096.6675359150593, 1031.310803042675, 1026.5805198445553, 972.719589585154, 890.323706768555, 726.2207661528078, 695.5242637969287, 632.715651167315, 632.3899103137566, 623.5467278248003, 610.6210886944299, 604.5618042488729, 535.5608113991736, 508.36617627219124, 469.370541138388, 442.376555155348, 433.53512023391386, 401.0072410934458, 3198.69866878225, 2101.962842044005, 2703.1648156766223, 29303.41223841037, 2245.8500236577784, 1624.8969753858437, 81550.17028703968, 3027.5503204044926, 17003.555937916746, 3035.0545300553413, 2568.214722498878, 5260.989496364188, 2513.168269592921, 2495.386162978282, 1661.6730222177466, 1476.3168087081212, 1205.0028185287786, 1098.3556088877838, 1060.4899036765462, 994.051669760461, 874.7945274272165, 798.1999916786011, 787.1890355094141, 760.5030056470486, 752.7118206654316, 732.8308325853724, 706.7280560217238, 689.0872317883403, 679.3195514341935, 649.6320431373404, 617.1875018964658, 610.8974857746537, 608.2416934100046, 603.1077364142984, 597.3240443289826, 593.9211693940543, 565.9693472401098, 563.199774234014, 536.2532428050258, 519.3241746741661, 511.765863451822, 3888.276868280156, 2760.2728150730018, 81550.17028703968, 2055.987096072153, 29303.41223841037, 17003.555937916746, 3028.665593408745, 1636.6142678046442, 5988.241160654758, 7991.292792053516, 4153.809598201111, 1601.659608828729, 2568.214722498878, 7630.777736661683, 6300.155118410844, 6065.654035712481, 1851.015383004859, 1197.715828946165, 835.6150687815452, 808.2062911367799, 796.3574605614346, 777.5540598977508, 775.8482345409517, 772.0007151881673, 749.6017066120072, 688.6557358485785, 662.3760503905489, 636.5332301289957, 610.0343346334207, 607.4854563883762, 601.389302090918, 576.766351476444, 568.1373497418188, 544.0857330849357, 543.9285678207161, 481.9836562764498, 454.45580564491655, 438.6447735319642, 419.50803469110184, 417.80541862731286, 416.9549225228703, 406.37835363202396, 404.5151046919399, 81550.17028703968, 913.8345682527525, 17003.555937916746, 13224.36909800537, 1435.76349755164, 2568.214722498878, 3548.7411544981087, 1554.914160584007, 1527.2417383878294, 1469.4048879223997, 1217.8561760755906, 1161.2404299250284, 1149.0582891757017, 1137.0126371420058, 1133.3849023725493, 1100.70513093292, 972.8022676248659, 938.2391899116485, 925.937692339687, 850.8485781297784, 840.8106690652753, 826.5944608761439, 677.3557702278996, 672.2115821993921, 641.5898514082005, 617.4771883574914, 594.201460343844, 591.593718923026, 573.6206508067899, 550.0262965373381, 549.2140187225857, 547.113662708695, 543.532508025121, 502.6552885833065, 474.8396836585595, 465.7709008668156, 463.840639490154, 13224.36909800537, 4553.7681511375495, 1453.0784462887646, 2815.893017097694, 81550.17028703968, 1091.7838080539461, 2456.3977697491514, 7076.273121307901, 9898.210303065329, 6199.990067674272, 17003.555937916746, 1212.3634203143522, 3548.7411544981087, 7991.292792053516, 3692.587164297612, 5127.961537145126, 1973.1792515866566, 1612.0902067724644, 1607.9679680586516, 1597.675027859346, 1530.0193890697842, 1496.7787917998044, 1334.6252064354337, 1334.1383290901917, 1249.3842017685824, 1125.2908407997636, 884.5205326131114, 837.9251662718344, 815.2514624532615, 761.7930849323276, 750.6792587256703, 721.982756835112, 718.2239411778381, 679.8728245934203, 678.3841773337813, 637.0396254515499, 611.2556077159034, 610.0634969405537, 607.7159307639781, 588.9525004007556, 527.2469148393733, 525.1386950212781, 518.4102957992451, 508.14835581723634, 506.90566684152463, 2043.2419167685382, 1785.9111360799188, 4696.842857798311, 7076.273121307901, 3692.587164297612, 81550.17028703968, 29303.41223841037, 1046.7654837558491, 4553.7681511375495, 3888.276868280156, 2112.805449485534, 1393.8440103502242, 1245.5572625545024, 1068.9552553754922, 805.3995721525359, 804.0145881567818, 781.8938880494933, 740.6655063739171, 740.1118403029238, 707.5220495073556, 671.7700970014841, 667.2404415135564, 665.084357009869, 651.2828275842598, 616.7393351065124, 610.3943491271989, 609.0778161460001, 587.0852283313174, 572.8061726517018, 569.8092284835251, 554.1820829812157, 546.127662146454, 534.1211990383457, 505.11289413026157, 502.65868857324955, 500.51691657428563, 483.891099386903, 480.4960349426715, 480.4714671794656, 477.3673309716918, 4031.6125138810958, 2662.660407954954, 5146.205983588712, 81550.17028703968, 4448.0246547584575, 7991.292792053516, 2703.1648156766223, 17003.555937916746, 875.2879422357873, 2043.2419167685382, 5739.779922728081, 5229.063001950664, 1649.7407608714423, 1267.4096246344093, 1092.960632176414, 1049.568520295205, 816.4353550545833, 772.1477835932163, 684.0565271620329, 680.5919519648995, 667.4236251952422, 651.9965805135088, 639.1202708944043, 618.8046502610798, 614.7990043044257, 587.3435107534406, 578.9182918167522, 557.5782603468805, 555.4569846353147, 555.2865369993189, 547.6903150836526, 535.9720229587479, 531.3385525771414, 496.7014481309272, 483.5145630020132, 468.9655775596723, 461.0617931033348, 460.38623576834465, 445.1955616641595, 434.9776111014564, 2632.4979053177335, 3028.665593408745, 3548.7411544981087, 5988.241160654758, 81550.17028703968, 17003.555937916746, 4031.6125138810958, 4187.625651230137, 2395.263190899185, 1594.3854600482525, 1326.104725567063, 1264.4295587863912, 1261.6439520164724, 1169.3364444981642, 1147.9954912603102, 913.7534056001643, 861.3600820131398, 847.1198241036714, 695.1247939418364, 690.3855559057599, 682.5082460468504, 678.0084372575574, 632.5867661859895, 597.7428706970874, 596.9556182444701, 569.718447106199, 567.3480436506941, 546.8469577206466, 538.8523371055769, 519.1965691641324, 500.5066876210891, 487.2525774856501, 475.97933738426235, 475.3050757505198, 451.93092705362307, 446.2788789765842, 431.93159527139693, 1753.6479577043665, 81550.17028703968, 4696.842857798311, 801.6670314454088], \"Category\": [\"Default\", \"Default\", \"Default\", \"Default\", \"Default\", \"Default\", \"Default\", \"Default\", \"Default\", \"Default\", \"Default\", \"Default\", \"Default\", \"Default\", \"Default\", \"Default\", \"Default\", \"Default\", \"Default\", \"Default\", \"Default\", \"Default\", \"Default\", \"Default\", \"Default\", \"Default\", \"Default\", \"Default\", \"Default\", \"Default\", \"Topic1\", \"Topic1\", \"Topic1\", \"Topic1\", \"Topic1\", \"Topic1\", \"Topic1\", \"Topic1\", \"Topic1\", \"Topic1\", \"Topic1\", \"Topic1\", \"Topic1\", \"Topic1\", \"Topic1\", \"Topic1\", \"Topic1\", \"Topic1\", \"Topic1\", \"Topic1\", \"Topic1\", \"Topic1\", \"Topic1\", \"Topic1\", \"Topic1\", \"Topic1\", \"Topic1\", \"Topic1\", \"Topic1\", \"Topic1\", \"Topic1\", \"Topic1\", \"Topic1\", \"Topic1\", \"Topic1\", \"Topic1\", \"Topic1\", \"Topic1\", \"Topic1\", \"Topic1\", \"Topic1\", \"Topic1\", \"Topic1\", \"Topic1\", \"Topic1\", \"Topic1\", \"Topic1\", \"Topic1\", \"Topic2\", \"Topic2\", \"Topic2\", \"Topic2\", \"Topic2\", \"Topic2\", \"Topic2\", \"Topic2\", \"Topic2\", \"Topic2\", \"Topic2\", \"Topic2\", \"Topic2\", \"Topic2\", \"Topic2\", \"Topic2\", \"Topic2\", \"Topic2\", \"Topic2\", \"Topic2\", \"Topic2\", \"Topic2\", \"Topic2\", \"Topic2\", \"Topic2\", \"Topic2\", \"Topic2\", \"Topic2\", \"Topic2\", \"Topic2\", \"Topic2\", \"Topic2\", \"Topic2\", \"Topic2\", \"Topic2\", \"Topic2\", \"Topic2\", \"Topic2\", \"Topic2\", \"Topic2\", \"Topic2\", \"Topic2\", \"Topic3\", \"Topic3\", \"Topic3\", \"Topic3\", \"Topic3\", \"Topic3\", \"Topic3\", \"Topic3\", \"Topic3\", \"Topic3\", \"Topic3\", \"Topic3\", \"Topic3\", \"Topic3\", \"Topic3\", \"Topic3\", \"Topic3\", \"Topic3\", \"Topic3\", \"Topic3\", \"Topic3\", \"Topic3\", \"Topic3\", \"Topic3\", \"Topic3\", \"Topic3\", \"Topic3\", \"Topic3\", \"Topic3\", \"Topic3\", \"Topic3\", \"Topic3\", \"Topic3\", \"Topic3\", \"Topic3\", \"Topic3\", \"Topic3\", \"Topic3\", \"Topic3\", \"Topic3\", \"Topic3\", \"Topic4\", \"Topic4\", \"Topic4\", \"Topic4\", \"Topic4\", \"Topic4\", \"Topic4\", \"Topic4\", \"Topic4\", \"Topic4\", \"Topic4\", \"Topic4\", \"Topic4\", \"Topic4\", \"Topic4\", \"Topic4\", \"Topic4\", \"Topic4\", \"Topic4\", \"Topic4\", \"Topic4\", \"Topic4\", \"Topic4\", \"Topic4\", \"Topic4\", \"Topic4\", \"Topic4\", \"Topic4\", \"Topic4\", \"Topic4\", \"Topic4\", \"Topic4\", \"Topic4\", \"Topic4\", \"Topic4\", \"Topic4\", \"Topic4\", \"Topic4\", \"Topic4\", \"Topic4\", \"Topic4\", \"Topic4\", \"Topic4\", \"Topic5\", \"Topic5\", \"Topic5\", \"Topic5\", \"Topic5\", \"Topic5\", \"Topic5\", \"Topic5\", \"Topic5\", \"Topic5\", \"Topic5\", \"Topic5\", \"Topic5\", \"Topic5\", \"Topic5\", \"Topic5\", \"Topic5\", \"Topic5\", \"Topic5\", \"Topic5\", \"Topic5\", \"Topic5\", \"Topic5\", \"Topic5\", \"Topic5\", \"Topic5\", \"Topic5\", \"Topic5\", \"Topic5\", \"Topic5\", \"Topic5\", \"Topic5\", \"Topic5\", \"Topic5\", \"Topic5\", \"Topic5\", \"Topic5\", \"Topic6\", \"Topic6\", \"Topic6\", \"Topic6\", \"Topic6\", \"Topic6\", \"Topic6\", \"Topic6\", \"Topic6\", \"Topic6\", \"Topic6\", \"Topic6\", \"Topic6\", \"Topic6\", \"Topic6\", \"Topic6\", \"Topic6\", \"Topic6\", \"Topic6\", \"Topic6\", \"Topic6\", \"Topic6\", \"Topic6\", \"Topic6\", \"Topic6\", \"Topic6\", \"Topic6\", \"Topic6\", \"Topic6\", \"Topic6\", \"Topic6\", \"Topic6\", \"Topic6\", \"Topic6\", \"Topic6\", \"Topic6\", \"Topic6\", \"Topic6\", \"Topic6\", \"Topic6\", \"Topic6\", \"Topic6\", \"Topic6\", \"Topic6\", \"Topic6\", \"Topic7\", \"Topic7\", \"Topic7\", \"Topic7\", \"Topic7\", \"Topic7\", \"Topic7\", \"Topic7\", \"Topic7\", \"Topic7\", \"Topic7\", \"Topic7\", \"Topic7\", \"Topic7\", \"Topic7\", \"Topic7\", \"Topic7\", \"Topic7\", \"Topic7\", \"Topic7\", \"Topic7\", \"Topic7\", \"Topic7\", \"Topic7\", \"Topic7\", \"Topic7\", \"Topic7\", \"Topic7\", \"Topic7\", \"Topic7\", \"Topic7\", \"Topic7\", \"Topic7\", \"Topic7\", \"Topic7\", \"Topic7\", \"Topic7\", \"Topic7\", \"Topic7\", \"Topic7\", \"Topic8\", \"Topic8\", \"Topic8\", \"Topic8\", \"Topic8\", \"Topic8\", \"Topic8\", \"Topic8\", \"Topic8\", \"Topic8\", \"Topic8\", \"Topic8\", \"Topic8\", \"Topic8\", \"Topic8\", \"Topic8\", \"Topic8\", \"Topic8\", \"Topic8\", \"Topic8\", \"Topic8\", \"Topic8\", \"Topic8\", \"Topic8\", \"Topic8\", \"Topic8\", \"Topic8\", \"Topic8\", \"Topic8\", \"Topic8\", \"Topic8\", \"Topic8\", \"Topic8\", \"Topic8\", \"Topic8\", \"Topic8\", \"Topic8\", \"Topic8\", \"Topic8\", \"Topic8\", \"Topic9\", \"Topic9\", \"Topic9\", \"Topic9\", \"Topic9\", \"Topic9\", \"Topic9\", \"Topic9\", \"Topic9\", \"Topic9\", \"Topic9\", \"Topic9\", \"Topic9\", \"Topic9\", \"Topic9\", \"Topic9\", \"Topic9\", \"Topic9\", \"Topic9\", \"Topic9\", \"Topic9\", \"Topic9\", \"Topic9\", \"Topic9\", \"Topic9\", \"Topic9\", \"Topic9\", \"Topic9\", \"Topic9\", \"Topic9\", \"Topic9\", \"Topic9\", \"Topic9\", \"Topic9\", \"Topic9\", \"Topic9\", \"Topic9\", \"Topic10\", \"Topic10\", \"Topic10\", \"Topic10\", \"Topic10\", \"Topic10\", \"Topic10\", \"Topic10\", \"Topic10\", \"Topic10\", \"Topic10\", \"Topic10\", \"Topic10\", \"Topic10\", \"Topic10\", \"Topic10\", \"Topic10\", \"Topic10\", \"Topic10\", \"Topic10\", \"Topic10\", \"Topic10\", \"Topic10\", \"Topic10\", \"Topic10\", \"Topic10\", \"Topic10\", \"Topic10\", \"Topic10\", \"Topic10\", \"Topic10\", \"Topic10\", \"Topic10\", \"Topic10\"], \"logprob\": [30.0, 29.0, 28.0, 27.0, 26.0, 25.0, 24.0, 23.0, 22.0, 21.0, 20.0, 19.0, 18.0, 17.0, 16.0, 15.0, 14.0, 13.0, 12.0, 11.0, 10.0, 9.0, 8.0, 7.0, 6.0, 5.0, 4.0, 3.0, 2.0, 1.0, -2.2482, -2.8059, -3.1683, -3.2219, -3.4044, -3.5138, -3.5698, -4.2209, -4.2236, -4.3355, -4.6835, -4.9086, -4.9391, -5.001, -5.1231, -5.1762, -5.2352, -5.3, -5.4879, -5.6552, -5.6625, -5.7339, -5.8372, -5.8419, -5.8639, -5.9363, -5.982, -6.0018, -6.0802, -6.0957, -3.1313, -3.6665, -4.9931, -4.0761, -5.012, -4.8009, -5.2968, -5.5788, -4.0921, -4.423, -4.8865, -3.5345, -2.9665, -4.42, -4.6734, -4.9192, -4.7793, -5.0352, -3.0664, -3.3646, -3.3897, -3.5329, -3.7871, -4.4118, -4.4977, -4.5489, -4.5693, -4.5799, -4.5811, -4.5996, -4.6146, -4.6153, -4.8017, -4.8673, -4.9397, -5.0898, -5.1168, -5.1799, -5.2017, -5.2265, -5.2582, -5.3049, -5.3705, -5.4279, -5.432, -5.4525, -5.4617, -5.4661, -3.8783, -4.5438, -4.3224, -4.8736, -3.4992, -3.02, -3.8333, -4.5604, -5.0116, -4.8999, -4.9831, -5.0457, -2.8569, -3.5775, -3.6711, -3.8189, -4.1621, -4.4831, -4.5063, -4.5191, -4.5255, -4.6522, -4.6821, -4.7734, -4.7919, -4.8534, -4.858, -4.9119, -5.0005, -5.2045, -5.2477, -5.3425, -5.343, -5.3571, -5.3781, -5.3881, -5.5095, -5.5617, -5.6417, -5.701, -5.7212, -5.7994, -3.9185, -4.3354, -4.2468, -2.359, -4.4226, -4.6705, -2.871, -4.948, -4.5207, -5.0902, -5.1494, -3.1229, -3.8618, -3.8689, -4.2757, -4.3941, -4.5973, -4.69, -4.7252, -4.7899, -4.9178, -5.0096, -5.0235, -5.058, -5.0683, -5.0951, -5.1314, -5.1568, -5.1711, -5.2158, -5.2671, -5.2774, -5.2817, -5.2902, -5.2999, -5.3056, -5.3539, -5.3588, -5.4079, -5.44, -5.4547, -3.6301, -4.0918, -2.3858, -4.7226, -3.56, -3.9494, -4.6461, -5.0155, -4.706, -4.7558, -4.8932, -5.1081, -5.1514, -2.7384, -2.93, -2.968, -4.1552, -4.5908, -4.9512, -4.9845, -4.9993, -5.0232, -5.0254, -5.0304, -5.0599, -5.1448, -5.1838, -5.2236, -5.2662, -5.2704, -5.2805, -5.3224, -5.3375, -5.3808, -5.3811, -5.5022, -5.5612, -5.5966, -5.6413, -5.6454, -5.6475, -5.6732, -5.6778, -2.1868, -5.1476, -3.3551, -3.6761, -4.9758, -4.9612, -5.3335, -4.2133, -4.2312, -4.2699, -4.4578, -4.5054, -4.516, -4.5265, -4.5297, -4.559, -4.6826, -4.7188, -4.732, -4.8167, -4.8286, -4.8457, -5.045, -5.0527, -5.0993, -5.1377, -5.1762, -5.1806, -5.2115, -5.2536, -5.255, -5.2589, -5.2655, -5.3438, -5.4008, -5.4201, -5.4243, -2.3281, -3.4072, -4.5429, -4.3608, -2.6005, -4.9252, -4.6396, -4.2956, -4.2083, -4.3778, -4.0615, -4.9569, -4.6842, -4.7306, -4.8846, -2.9674, -3.9227, -4.1249, -4.1275, -4.1339, -4.1772, -4.1992, -4.3139, -4.3143, -4.38, -4.4847, -4.7256, -4.7798, -4.8073, -4.8752, -4.8899, -4.9289, -4.9341, -4.9891, -4.9913, -5.0543, -5.0956, -5.0976, -5.1015, -5.1329, -5.2437, -5.2477, -5.2607, -5.2807, -5.2831, -4.2117, -4.3388, -3.656, -3.3939, -4.2827, -2.7664, -3.4723, -4.9077, -4.531, -4.9305, -3.8017, -4.2178, -4.3304, -4.4834, -4.7668, -4.7685, -4.7965, -4.8507, -4.8514, -4.8965, -4.9485, -4.9552, -4.9585, -4.9795, -5.0341, -5.0444, -5.0466, -5.0834, -5.1081, -5.1133, -5.1412, -5.1558, -5.1781, -5.2341, -5.2389, -5.2432, -5.2771, -5.2841, -5.2842, -5.2907, -3.7683, -4.2537, -3.8702, -2.629, -4.4956, -4.3662, -4.7569, -4.5203, -5.1152, -5.1198, -2.7042, -2.7974, -3.9514, -4.2152, -4.3634, -4.404, -4.6554, -4.7113, -4.8325, -4.8376, -4.8572, -4.8806, -4.9006, -4.9329, -4.9394, -4.9852, -4.9997, -5.0373, -5.0411, -5.0414, -5.0552, -5.0769, -5.0856, -5.1531, -5.1801, -5.2107, -5.2277, -5.2292, -5.2628, -5.2861, -3.7739, -3.8196, -3.9859, -3.7828, -2.6435, -4.1911, -4.7151, -2.926, -3.4848, -3.892, -4.0763, -4.124, -4.1262, -4.2022, -4.2207, -4.4491, -4.5082, -4.5249, -4.7229, -4.7297, -4.7412, -4.7478, -4.8173, -4.874, -4.8753, -4.9221, -4.9263, -4.9631, -4.9779, -5.0151, -5.0519, -5.0787, -5.1022, -5.1036, -5.1541, -5.1668, -5.1995, -4.0964, -2.6838, -4.4868, -4.9942], \"loglift\": [30.0, 29.0, 28.0, 27.0, 26.0, 25.0, 24.0, 23.0, 22.0, 21.0, 20.0, 19.0, 18.0, 17.0, 16.0, 15.0, 14.0, 13.0, 12.0, 11.0, 10.0, 9.0, 8.0, 7.0, 6.0, 5.0, 4.0, 3.0, 2.0, 1.0, 1.8222, 1.8222, 1.8221, 1.8221, 1.8221, 1.8221, 1.8221, 1.8219, 1.8219, 1.8219, 1.8217, 1.8216, 1.8216, 1.8215, 1.8214, 1.8214, 1.8213, 1.8213, 1.8211, 1.8209, 1.8208, 1.8207, 1.8206, 1.8206, 1.8205, 1.8204, 1.8203, 1.8203, 1.8201, 1.8201, 1.6505, 1.5831, 1.6977, 1.5611, 1.6853, 1.5827, 1.5539, 1.6918, 0.9036, 1.0128, 1.2889, 0.1619, -0.2937, 0.6973, 0.6109, 0.6624, -0.5386, 0.492, 2.0147, 2.0147, 2.0147, 2.0147, 2.0146, 2.0144, 2.0143, 2.0143, 2.0143, 2.0143, 2.0143, 2.0143, 2.0143, 2.0143, 2.0142, 2.0141, 2.014, 2.0139, 2.0139, 2.0138, 2.0138, 2.0138, 2.0137, 2.0137, 2.0136, 2.0135, 2.0135, 2.0135, 2.0135, 2.0135, 1.7718, 1.815, 1.644, 1.8151, 0.1972, -0.3471, 0.4074, 0.4354, 1.3212, 0.3844, 0.6968, 0.5359, 2.1907, 2.1905, 2.1905, 2.1905, 2.1903, 2.1902, 2.1902, 2.1901, 2.1901, 2.1901, 2.19, 2.19, 2.1899, 2.1899, 2.1899, 2.1898, 2.1897, 2.1895, 2.1894, 2.1893, 2.1893, 2.1893, 2.1893, 2.1892, 2.189, 2.1889, 2.1888, 2.1887, 2.1886, 2.1885, 1.9929, 1.9958, 1.8329, 1.3374, 1.8424, 1.9182, -0.1982, 1.0183, -0.28, 0.8737, 0.9815, 2.2909, 2.2907, 2.2907, 2.2905, 2.2904, 2.2903, 2.2902, 2.2902, 2.2901, 2.29, 2.2899, 2.2899, 2.2899, 2.2898, 2.2898, 2.2898, 2.2897, 2.2897, 2.2896, 2.2896, 2.2895, 2.2895, 2.2895, 2.2895, 2.2895, 2.2894, 2.2894, 2.2893, 2.2893, 2.2893, 2.0861, 1.9669, 0.2871, 1.6307, 0.1364, 0.2913, 1.3199, 1.566, 0.5783, 0.24, 0.7569, 1.495, 0.9795, 2.3035, 2.3035, 2.3035, 2.3031, 2.3029, 2.3025, 2.3025, 2.3025, 2.3024, 2.3024, 2.3024, 2.3024, 2.3023, 2.3022, 2.3022, 2.3021, 2.3021, 2.3021, 2.302, 2.302, 2.3019, 2.3019, 2.3017, 2.3016, 2.3015, 2.3014, 2.3014, 2.3014, 2.3013, 2.3013, 0.4861, 2.0166, 0.8855, 0.8159, 1.7366, 1.1696, 0.474, 2.4194, 2.4194, 2.4194, 2.4192, 2.4192, 2.4192, 2.4192, 2.4192, 2.4192, 2.4191, 2.419, 2.419, 2.4189, 2.4189, 2.4189, 2.4186, 2.4186, 2.4186, 2.4185, 2.4184, 2.4184, 2.4184, 2.4183, 2.4183, 2.4183, 2.4183, 2.4182, 2.418, 2.418, 2.418, 2.1639, 2.1509, 2.1575, 1.678, 0.0724, 2.0611, 1.5358, 0.8218, 0.5734, 0.8717, 0.1792, 1.9246, 1.1233, 0.2652, 0.8832, 2.472, 2.4717, 2.4716, 2.4716, 2.4716, 2.4716, 2.4716, 2.4715, 2.4715, 2.4715, 2.4714, 2.4712, 2.4711, 2.4711, 2.471, 2.471, 2.4709, 2.4709, 2.4708, 2.4708, 2.4708, 2.4707, 2.4707, 2.4707, 2.4706, 2.4704, 2.4704, 2.4704, 2.4704, 2.4704, 2.1478, 2.1554, 1.8712, 1.7235, 1.4851, -0.0935, 0.224, 2.1207, 1.0272, 0.7856, 2.5244, 2.5242, 2.5241, 2.524, 2.5237, 2.5237, 2.5237, 2.5236, 2.5236, 2.5235, 2.5235, 2.5235, 2.5235, 2.5234, 2.5233, 2.5233, 2.5233, 2.5233, 2.5232, 2.5232, 2.5232, 2.5231, 2.5231, 2.523, 2.523, 2.523, 2.5229, 2.5229, 2.5229, 2.5229, 1.9116, 1.8411, 1.5656, 0.0439, 1.086, 0.6295, 1.3228, -0.2797, 2.0921, 1.2398, 2.6225, 2.6224, 2.6221, 2.6219, 2.6218, 2.6217, 2.6215, 2.6214, 2.6213, 2.6213, 2.6212, 2.6212, 2.6212, 2.6211, 2.6211, 2.621, 2.621, 2.621, 2.6209, 2.6209, 2.6209, 2.6209, 2.6209, 2.6207, 2.6207, 2.6206, 2.6206, 2.6206, 2.6205, 2.6205, 2.3323, 2.1464, 1.8216, 1.5015, 0.0294, 0.0496, 0.9648, 2.716, 2.7158, 2.7156, 2.7155, 2.7155, 2.7155, 2.7154, 2.7154, 2.7152, 2.7151, 2.7151, 2.7149, 2.7149, 2.7149, 2.7149, 2.7148, 2.7147, 2.7147, 2.7146, 2.7146, 2.7145, 2.7145, 2.7144, 2.7144, 2.7143, 2.7143, 2.7143, 2.7142, 2.7141, 2.7141, 2.4159, -0.0109, 1.0404, 2.3009]}, \"token.table\": {\"Topic\": [7, 7, 2, 7, 10, 8, 1, 10, 9, 7, 9, 9, 6, 10, 4, 10, 6, 1, 5, 5, 9, 10, 5, 3, 6, 5, 5, 5, 6, 4, 4, 1, 2, 3, 4, 7, 3, 4, 3, 8, 10, 5, 1, 7, 8, 1, 1, 10, 5, 2, 2, 9, 1, 2, 3, 4, 5, 6, 7, 8, 9, 10, 3, 7, 8, 10, 6, 1, 3, 5, 10, 8, 8, 2, 10, 9, 3, 4, 2, 5, 6, 8, 9, 3, 5, 9, 5, 9, 8, 8, 1, 3, 6, 5, 1, 3, 6, 6, 6, 7, 10, 9, 2, 10, 2, 1, 8, 1, 9, 4, 2, 8, 6, 1, 2, 3, 4, 6, 10, 10, 10, 3, 3, 4, 5, 7, 2, 10, 1, 1, 4, 1, 4, 1, 7, 1, 6, 8, 6, 9, 1, 4, 7, 6, 6, 7, 7, 1, 2, 3, 7, 9, 3, 4, 3, 1, 10, 1, 8, 10, 3, 2, 3, 4, 8, 4, 3, 1, 1, 2, 4, 6, 7, 8, 7, 5, 9, 9, 4, 2, 8, 9, 7, 7, 4, 5, 10, 5, 3, 7, 8, 7, 6, 1, 2, 4, 8, 4, 4, 2, 7, 8, 6, 4, 5, 5, 1, 1, 7, 5, 6, 5, 6, 3, 3, 7, 8, 2, 2, 7, 2, 3, 2, 6, 8, 2, 1, 3, 5, 9, 7, 3, 10, 8, 9, 7, 4, 5, 5, 4, 8, 8, 5, 10, 7, 2, 2, 6, 7, 3, 2, 7, 2, 1, 2, 4, 8, 2, 1, 6, 7, 1, 6, 7, 5, 9, 8, 2, 3, 3, 7, 10, 2, 1, 7, 10, 3, 8, 9, 3, 1, 3, 8, 6, 1, 2, 4, 6, 8, 9, 8, 6, 9, 1, 6, 9, 7, 1, 4, 6, 7, 8, 9, 10, 10, 1, 3, 1, 2, 9, 4, 9, 5, 4, 9, 9, 6, 6, 6, 1, 4, 8, 10, 2, 5, 2, 2, 2, 2, 3, 6, 10, 8, 6, 9, 10, 1, 2, 4, 9, 9, 2, 5, 3, 4, 8, 1, 8, 1, 2, 6, 6, 4, 5, 6, 6, 1, 6, 6, 7, 1, 4, 5, 9, 7, 2, 4, 7, 1, 7, 7, 6, 2, 4, 3, 8, 3, 2, 8, 8, 2, 7, 8, 1, 6, 10, 3, 5, 10, 10, 1, 6, 1, 5, 4, 7, 4, 8, 3, 6, 2, 4, 2, 4, 4, 5, 1, 1, 2, 8, 3, 5, 6, 4, 3, 5, 1, 2, 3, 4, 5, 6, 8, 9, 1, 6, 1, 6, 9, 2, 8, 9, 1, 7, 10, 7, 4, 9, 5, 3, 8, 9, 10, 1, 2, 6, 9, 1, 4, 6, 9, 10, 7, 7, 4, 4, 2, 4, 7], \"Freq\": [0.999411508728267, 0.9993980178225688, 0.271010124872384, 0.7284796951631645, 0.9979930693886807, 0.9981514978082451, 0.998837093562209, 0.9990724336686219, 0.9987395886605239, 0.9987161943206918, 0.9988877908081092, 0.9974807915393132, 0.9986792388071477, 0.9987389435784495, 0.9991677873998644, 0.9991754825803691, 0.9990202830239981, 0.432522487902061, 0.5669457409859543, 0.9994514453990055, 0.9973145247457309, 0.9983991804159907, 0.9998166523856741, 0.9989528520622925, 0.9989318061160612, 0.9979225541295801, 0.9976898456855025, 0.9987889750634313, 0.9989873051421877, 0.9990543251136905, 0.998075946300246, 0.19004612687051708, 0.16240429480639088, 0.42599134525492277, 0.11592506607634163, 0.10558497334124257, 0.9998937541589971, 0.9990270751819939, 0.9993122711138775, 0.9979008527645704, 0.9979401120881629, 0.9989067004303315, 0.9983676388703558, 0.7031183311081233, 0.295195060207079, 0.9993318182823607, 0.9984656271202597, 0.9974293055726586, 0.9986712964886348, 0.9995449408769845, 0.9991508551794328, 0.9991302395463383, 0.12052703219875519, 0.094236467844891, 0.09172267787635453, 0.13480045426400608, 0.1624153567476358, 0.0955975931449278, 0.0768606610867634, 0.08366628758694745, 0.07477605477139171, 0.06540758874230951, 0.9990355955136944, 0.9982133424406798, 0.9977967417914012, 0.9986780806306166, 0.9979780252590615, 0.9977113086368743, 0.9991231967061914, 0.9989970297677907, 0.9992553261447107, 0.9991014751352805, 0.998230413064754, 0.9998773021519193, 0.9987572069304298, 0.9981864296696272, 0.9988689213456399, 0.99842221457867, 0.9989295027805573, 0.1603385468897273, 0.27333636288758434, 0.11694287690551289, 0.44889157327826995, 0.9994345111432241, 0.9980044816121539, 0.997941048115521, 0.9982928496945169, 0.997712563893458, 0.9988012194708082, 0.9984977401490175, 0.29387536703144096, 0.7057461465830818, 0.9983448925955207, 0.9982954130165648, 0.9995899450781683, 0.9990659560936345, 0.9994120829257458, 0.9991869405107143, 0.9991753024724905, 0.3392929849061934, 0.6598749596153541, 0.9984137799241574, 0.9997369214791929, 0.9991310382069022, 0.9988467983105889, 0.9999176079389791, 0.9993944728793489, 0.997206879602641, 0.9989357859278977, 0.9981632860143955, 0.999358154909278, 0.9978669772670082, 0.9992969809634258, 0.21584498578201203, 0.4998264681795378, 0.15437919512885628, 0.12960228726866949, 0.9977895343505445, 0.9994726296033003, 0.9996602746405236, 0.9988570915544006, 0.9987289932008783, 0.2982616653075956, 0.2694478751864963, 0.3216241978382167, 0.11019327843609604, 0.9994838446904091, 0.9985126479227363, 0.9998938977459237, 0.9999142272190354, 0.9985034885940686, 0.9984638593574104, 0.9980575394430977, 0.8826854738892171, 0.11655537917764952, 0.8775686834088201, 0.12171549007057145, 0.9991063654248497, 0.9981876545119505, 0.9977525024817234, 0.3945907086101601, 0.4507824234438854, 0.15359068721218255, 0.9982316480962797, 0.9981340955081619, 0.9982958780574329, 0.9988920927872923, 0.3607842920634555, 0.1601289186692597, 0.2678699812306752, 0.14398423345363476, 0.06688512446473194, 0.9974882221809778, 0.9991080446281219, 0.9985132297854233, 0.9999638222543576, 0.9984182362274696, 0.999836005241468, 0.25888890527053904, 0.740741603406234, 0.9994366909225214, 0.6899967891271586, 0.30949113997709315, 0.9995351407197615, 0.9995525998111404, 0.9977833734611001, 0.996888272808977, 0.9991607247139681, 0.3136223623463151, 0.22796636230764408, 0.07171722837883478, 0.05485581104838773, 0.09464875594824276, 0.23718393711495514, 0.99838272118701, 0.9991972982362504, 0.9994667611441763, 0.9991772816834507, 0.9990917553753415, 0.9998771114989675, 0.9989672345585768, 0.9987003812647197, 0.9991467683182688, 0.9994023596256101, 0.998449003939371, 0.9979981077773964, 0.9978431879455089, 0.9998921739174983, 0.997080044403588, 0.9988528825144918, 0.9985925908445265, 0.9979458548926934, 0.9989964076628352, 0.7871178833677065, 0.21257196340631054, 0.998866269610353, 0.9981584712179413, 0.999811918201914, 0.999444509631877, 0.9986343965288206, 0.722870839658541, 0.2765213435389815, 0.9990439068673672, 0.9995949731332532, 0.9979591501420422, 0.9992639328746882, 0.9997760203032726, 0.9990035611584173, 0.9990951412100777, 0.2258708886498433, 0.7740255829326401, 0.2305450203707906, 0.7694009933568475, 0.9978021307881605, 0.8203336017890555, 0.17944797539135587, 0.9980303064507042, 0.9997729884655604, 0.9997403423866423, 0.997635045736108, 0.9993478859240014, 0.9973126137497792, 0.2997002537822316, 0.195293398454587, 0.504758322159548, 0.9990339191615466, 0.9977307140797215, 0.9992562062353388, 0.99830446488878, 0.9978669841139866, 0.9986388084399411, 0.9992462321960319, 0.9984511978924105, 0.9983695947763016, 0.9995509834702447, 0.9995774936407121, 0.24840382262406963, 0.7506829177097435, 0.9980722638065369, 0.9979585526223248, 0.9981409377543983, 0.9985798255923676, 0.9992874323132932, 0.9976239564659114, 0.9982567438538986, 0.9986498002617328, 0.9991365899796397, 0.9990358482651314, 0.9984649368803392, 0.9990707248706012, 0.9995599025539549, 0.9993337410773572, 0.9989003869101241, 0.999555365842767, 0.8187221845528103, 0.18096010052839892, 0.9982622636006679, 0.9994605112961564, 0.3247472165934803, 0.20222509440612285, 0.4729890922273188, 0.3901470401320393, 0.6095531980075625, 0.9989589234294532, 0.9987266119708134, 0.9997967127284051, 0.9977156585260124, 0.23816894600847172, 0.7612790341407739, 0.9992188126909061, 0.9988219318801169, 0.999132843928492, 0.9989363504309559, 0.9977984603780355, 0.9998124913499914, 0.9979424792058321, 0.9993888196628962, 0.9992621438332288, 0.9985135182440399, 0.9989828574447734, 0.999176289506157, 0.699180452867399, 0.30038863900969737, 0.9992271967831545, 0.3990593365783217, 0.20609931870319717, 0.12864001191674967, 0.11587611968376478, 0.15028857423347894, 0.9984714942634763, 0.998853630125959, 0.25185205225072277, 0.7479588097762792, 0.5866313745054229, 0.41320669335392385, 0.9991210733963024, 0.9978316299444817, 0.9997632511673279, 0.07393190406973883, 0.21502539132370926, 0.3726384615383173, 0.12565715563501398, 0.089097422853275, 0.12349065295165167, 0.9991669394235884, 0.9991516593481821, 0.9995958197487331, 0.7700423482588722, 0.2295867001290341, 0.9985877872239618, 0.37871464003692085, 0.6210655953874874, 0.9998980789785101, 0.9984966277986579, 0.9984554972870208, 0.9976831114864209, 0.9979644765163032, 0.9981976177866083, 0.9990806409937659, 0.9982247054337331, 0.9985308733534636, 0.9988567655238703, 0.997254235611814, 0.9998365358274749, 0.999402338243459, 0.9993521019689703, 0.9991983059410995, 0.9992081646352364, 0.9994130010836768, 0.999260229162794, 0.9989180117453635, 0.9983818819992623, 0.9990187405253568, 0.998696345988613, 0.9969889721702232, 0.998987650647592, 0.29775019946007747, 0.19588389454103808, 0.18035345788944682, 0.32597217574092613, 0.9994583295094969, 0.9993540576700339, 0.9987037380037616, 0.9983190150850756, 0.9989420371269891, 0.9986895907934683, 0.9974392823643063, 0.9996187772585827, 0.7646633820299745, 0.23435812859286875, 0.9991093879619921, 0.9990789943507036, 0.4845368976672377, 0.2547943081049661, 0.26029346583385027, 0.9993593825329747, 0.9984074806697372, 0.9992808312851337, 0.7639826808334395, 0.2356290360834379, 0.9998021696503705, 0.9987657832519684, 0.9985074464898273, 0.9989629072939094, 0.9988958843712133, 0.9991524601846338, 0.9995380402257035, 0.9983680364454361, 0.9990897073489213, 0.9977401170266713, 0.9979595966709874, 0.9979984370289731, 0.9992581223747784, 0.998489517186117, 0.9996148540851912, 0.9987380973284232, 0.9997924879913102, 0.9986048923849127, 0.9989676606952008, 0.9971356838162583, 0.818939557732324, 0.18024832458394174, 0.9979351674990754, 0.9995959226807305, 0.9990026684517196, 0.9976953446243708, 0.9987656819276253, 0.9990478031119998, 0.9998505952340909, 0.9994895929113414, 0.8719921519388855, 0.12760860760081252, 0.9992656073647338, 0.9966082011512059, 0.814756795187081, 0.18517199890615477, 0.35074172187933506, 0.6489293095357078, 0.30042577805274906, 0.6988563068727058, 0.2764219521467195, 0.7231169285515755, 0.7840994930076978, 0.2157056020064161, 0.9989698215381145, 0.9977097703581664, 0.9978467931161457, 0.44518233574521027, 0.17158271604671352, 0.38319492190726956, 0.9993913051191925, 0.9985300781614871, 0.9987780829181241, 0.9982872796118082, 0.9998075427332392, 0.999162290193573, 0.09433320923320467, 0.20036985277900765, 0.08451173420705431, 0.1353834461688511, 0.24218463567477358, 0.106389510912012, 0.060516753304842644, 0.07627816232884442, 0.787259325696138, 0.21258098571348286, 0.842172447823064, 0.1578063056021624, 0.9998641197504816, 0.26763484741773547, 0.5417187273033682, 0.19049449751327233, 0.2644329473228745, 0.548240611398069, 0.18714698928889426, 0.9995315490578036, 0.9978697181907686, 0.9986996699835072, 0.9992008757028319, 0.8230402390547027, 0.17697743868690716, 0.9976970698522034, 0.9971343502082891, 0.24681335398044627, 0.10369712138459038, 0.47622547868745096, 0.1733020384783565, 0.290857856619064, 0.516540206905428, 0.19212182836877975, 0.9982471673244904, 0.9984210064506808, 0.9994796881115159, 0.9993237309128953, 0.9993385882194895, 0.9976629646126327, 0.9994994682471308, 0.9974501963537574, 0.9972795760217864], \"Term\": [\"0\", \"1\", \"2\", \"2\", \"3\", \"API\", \"Add\", \"Apply\", \"CSV\", \"Calculating\", \"Can\", \"Cant\", \"Change\", \"Conditional\", \"Convert\", \"Converting\", \"Count\", \"Creating\", \"Creating\", \"Data\", \"Dataframe\", \"Date\", \"Error\", \"Excel\", \"Extract\", \"Extracting\", \"For\", \"Frame\", \"Function\", \"Get\", \"HTML\", \"How\", \"How\", \"How\", \"How\", \"How\", \"I\", \"ID\", \"Is\", \"JSON\", \"List\", \"Loop\", \"Merge\", \"Multiple\", \"Multiple\", \"NA\", \"NAs\", \"Not\", \"Package\", \"Plot\", \"Plotting\", \"Python\", \"R\", \"R\", \"R\", \"R\", \"R\", \"R\", \"R\", \"R\", \"R\", \"R\", \"RStudio\", \"Rcpp\", \"Regression\", \"Remove\", \"Removing\", \"Replace\", \"Rmarkdown\", \"Rs\", \"Rstudio\", \"SQL\", \"Server\", \"Shiny\", \"Split\", \"Subset\", \"Time\", \"Unable\", \"Use\", \"Using\", \"Using\", \"Using\", \"Using\", \"What\", \"Windows\", \"X\", \"XML\", \"access\", \"according\", \"across\", \"add\", \"add\", \"aggregate\", \"analysis\", \"another\", \"app\", \"apply\", \"argument\", \"arguments\", \"array\", \"array\", \"average\", \"axis\", \"bar\", \"barplot\", \"based\", \"calculate\", \"calculation\", \"cant\", \"caret\", \"categorical\", \"cell\", \"certain\", \"change\", \"change\", \"change\", \"change\", \"changing\", \"character\", \"characters\", \"chart\", \"class\", \"code\", \"code\", \"code\", \"code\", \"color\", \"colors\", \"column\", \"columns\", \"combinations\", \"combine\", \"command\", \"condition\", \"condition\", \"conditional\", \"conditional\", \"conditions\", \"connect\", \"connection\", \"convert\", \"convert\", \"convert\", \"converting\", \"coordinates\", \"correlation\", \"count\", \"create\", \"create\", \"create\", \"create\", \"create\", \"created\", \"csv\", \"custom\", \"data\", \"database\", \"dataframe\", \"dataframes\", \"dataframes\", \"dataset\", \"datatable\", \"datatable\", \"date\", \"dates\", \"default\", \"defined\", \"difference\", \"different\", \"different\", \"different\", \"different\", \"different\", \"different\", \"directory\", \"display\", \"distribution\", \"document\", \"doesnt\", \"dplyr\", \"duplicate\", \"dynamic\", \"element\", \"elements\", \"empty\", \"environment\", \"equivalent\", \"error\", \"errors\", \"every\", \"excel\", \"existing\", \"expression\", \"factor\", \"factor\", \"factors\", \"fails\", \"file\", \"files\", \"filter\", \"find\", \"find\", \"first\", \"format\", \"formula\", \"found\", \"frame\", \"frames\", \"frequency\", \"function\", \"function\", \"functions\", \"functions\", \"generate\", \"get\", \"get\", \"getting\", \"ggplot\", \"ggplot2\", \"gives\", \"graph\", \"grid\", \"group\", \"group\", \"group\", \"grouped\", \"grouping\", \"groups\", \"html\", \"ifelse\", \"igraph\", \"image\", \"import\", \"information\", \"input\", \"inside\", \"install\", \"install\", \"installation\", \"installing\", \"interval\", \"intervals\", \"issue\", \"keep\", \"knitr\", \"label\", \"labels\", \"lapply\", \"last\", \"leaflet\", \"legend\", \"length\", \"level\", \"levels\", \"line\", \"line\", \"linear\", \"lines\", \"list\", \"list\", \"list\", \"lists\", \"lists\", \"load\", \"local\", \"loop\", \"loops\", \"make\", \"make\", \"map\", \"markdown\", \"match\", \"matching\", \"matrices\", \"matrix\", \"max\", \"mean\", \"merge\", \"message\", \"method\", \"missing\", \"model\", \"model\", \"models\", \"multiple\", \"multiple\", \"multiple\", \"multiple\", \"multiple\", \"must\", \"n\", \"name\", \"name\", \"names\", \"names\", \"nested\", \"network\", \"new\", \"number\", \"number\", \"number\", \"number\", \"number\", \"number\", \"numbers\", \"numeric\", \"object\", \"one\", \"one\", \"open\", \"output\", \"output\", \"package\", \"packages\", \"page\", \"parallel\", \"parameter\", \"parameters\", \"pass\", \"pattern\", \"pdf\", \"per\", \"percentage\", \"plot\", \"plotly\", \"plots\", \"plotting\", \"point\", \"points\", \"possible\", \"predict\", \"previous\", \"print\", \"programming\", \"python\", \"query\", \"r\", \"r\", \"r\", \"r\", \"random\", \"range\", \"raster\", \"reactive\", \"read\", \"reference\", \"regex\", \"regression\", \"remove\", \"remove\", \"replace\", \"result\", \"results\", \"results\", \"results\", \"return\", \"returning\", \"returns\", \"row\", \"row\", \"rows\", \"run\", \"running\", \"sample\", \"save\", \"scale\", \"script\", \"second\", \"select\", \"selected\", \"separate\", \"sequence\", \"series\", \"server\", \"set\", \"several\", \"shiny\", \"show\", \"showing\", \"similar\", \"size\", \"size\", \"space\", \"specific\", \"split\", \"stacked\", \"standard\", \"statement\", \"string\", \"strings\", \"subset\", \"subset\", \"sum\", \"summary\", \"table\", \"table\", \"tables\", \"tables\", \"test\", \"test\", \"text\", \"text\", \"time\", \"time\", \"times\", \"tree\", \"trying\", \"two\", \"two\", \"two\", \"type\", \"unable\", \"unique\", \"update\", \"use\", \"used\", \"using\", \"using\", \"using\", \"using\", \"using\", \"using\", \"using\", \"using\", \"value\", \"value\", \"values\", \"values\", \"variable\", \"variables\", \"variables\", \"variables\", \"vector\", \"vector\", \"vector\", \"vectors\", \"version\", \"via\", \"vs\", \"way\", \"way\", \"web\", \"width\", \"within\", \"within\", \"within\", \"within\", \"without\", \"without\", \"without\", \"word\", \"words\", \"work\", \"working\", \"write\", \"wrong\", \"x\", \"year\", \"zero\"]}, \"R\": 30, \"lambda.step\": 0.01, \"plot.opts\": {\"xlab\": \"PC1\", \"ylab\": \"PC2\"}, \"topic.order\": [6, 5, 1, 3, 10, 9, 4, 7, 2, 8]};\n",
       "\n",
       "function LDAvis_load_lib(url, callback){\n",
       "  var s = document.createElement('script');\n",
       "  s.src = url;\n",
       "  s.async = true;\n",
       "  s.onreadystatechange = s.onload = callback;\n",
       "  s.onerror = function(){console.warn(\"failed to load library \" + url);};\n",
       "  document.getElementsByTagName(\"head\")[0].appendChild(s);\n",
       "}\n",
       "\n",
       "if(typeof(LDAvis) !== \"undefined\"){\n",
       "   // already loaded: just create the visualization\n",
       "   !function(LDAvis){\n",
       "       new LDAvis(\"#\" + \"ldavis_el84051406590792144649428257817\", ldavis_el84051406590792144649428257817_data);\n",
       "   }(LDAvis);\n",
       "}else if(typeof define === \"function\" && define.amd){\n",
       "   // require.js is available: use it to load d3/LDAvis\n",
       "   require.config({paths: {d3: \"https://d3js.org/d3.v5\"}});\n",
       "   require([\"d3\"], function(d3){\n",
       "      window.d3 = d3;\n",
       "      LDAvis_load_lib(\"https://cdn.jsdelivr.net/gh/bmabey/pyLDAvis@3.3.1/pyLDAvis/js/ldavis.v3.0.0.js\", function(){\n",
       "        new LDAvis(\"#\" + \"ldavis_el84051406590792144649428257817\", ldavis_el84051406590792144649428257817_data);\n",
       "      });\n",
       "    });\n",
       "}else{\n",
       "    // require.js not available: dynamically load d3 & LDAvis\n",
       "    LDAvis_load_lib(\"https://d3js.org/d3.v5.js\", function(){\n",
       "         LDAvis_load_lib(\"https://cdn.jsdelivr.net/gh/bmabey/pyLDAvis@3.3.1/pyLDAvis/js/ldavis.v3.0.0.js\", function(){\n",
       "                 new LDAvis(\"#\" + \"ldavis_el84051406590792144649428257817\", ldavis_el84051406590792144649428257817_data);\n",
       "            })\n",
       "         });\n",
       "}\n",
       "</script>"
      ],
      "text/plain": [
       "PreparedData(topic_coordinates=              x         y  topics  cluster       Freq\n",
       "topic                                                \n",
       "5      0.172687 -0.067696       1        1  16.165966\n",
       "4      0.201994 -0.014191       2        1  13.333687\n",
       "0      0.181962  0.071290       3        1  11.182799\n",
       "2      0.072558 -0.032783       4        1  10.115707\n",
       "9     -0.168012 -0.151012       5        1   9.989372\n",
       "8     -0.106690 -0.186610       6        1   8.892083\n",
       "3      0.059599  0.138499       7        1   8.439818\n",
       "6     -0.077355  0.019384       8        1   8.006974\n",
       "1     -0.141743 -0.085695       9        1   7.261194\n",
       "7     -0.195003  0.308813      10        1   6.612399, topic_info=            Term          Freq         Total Category  logprob  loglift\n",
       "22          data  20159.000000  20159.000000  Default  30.0000  30.0000\n",
       "14      function  13224.000000  13224.000000  Default  29.0000  29.0000\n",
       "268       column  11542.000000  11542.000000  Default  28.0000  28.0000\n",
       "0            How  29303.000000  29303.000000  Default  27.0000  27.0000\n",
       "24       package   7630.000000   7630.000000  Default  26.0000  26.0000\n",
       "...          ...           ...           ...      ...      ...      ...\n",
       "649   equivalent    431.005713    431.931595  Topic10  -5.1995   2.7141\n",
       "975   dataframes   1298.777914   1753.647958  Topic10  -4.0964   2.4159\n",
       "13             R   5333.851672  81550.170287  Topic10  -2.6838  -0.0109\n",
       "4         vector    879.007965   4696.842858  Topic10  -4.4868   1.0404\n",
       "1394       array    529.215844    801.667031  Topic10  -4.9942   2.3009\n",
       "\n",
       "[437 rows x 6 columns], token_table=      Topic      Freq   Term\n",
       "term                        \n",
       "2131      7  0.999412      0\n",
       "912       7  0.999398      1\n",
       "555       2  0.271010      2\n",
       "555       7  0.728480      2\n",
       "1322     10  0.997993      3\n",
       "...     ...       ...    ...\n",
       "656       4  0.999339  write\n",
       "1761      4  0.997663  wrong\n",
       "1235      2  0.999499      x\n",
       "1197      4  0.997450   year\n",
       "2593      7  0.997280   zero\n",
       "\n",
       "[459 rows x 3 columns], R=30, lambda_step=0.01, plot_opts={'xlab': 'PC1', 'ylab': 'PC2'}, topic_order=[6, 5, 1, 3, 10, 9, 4, 7, 2, 8])"
      ]
     },
     "execution_count": 85,
     "metadata": {},
     "output_type": "execute_result"
    }
   ],
   "source": [
    "pyLDAvis.enable_notebook()\n",
    "vis = pyLDAvis.gensim_models.prepare(ldamodel, doc_term_matrix, dictionary)\n",
    "vis"
   ]
  },
  {
   "cell_type": "code",
   "execution_count": 86,
   "metadata": {},
   "outputs": [
    {
     "name": "stdout",
     "output_type": "stream",
     "text": [
      "Perplexity:  -8.574423589323509\n"
     ]
    }
   ],
   "source": [
    "#perplexity is a measure of how good the model is lower is better.\n",
    "print('Perplexity: ', ldamodel.log_perplexity(doc_term_matrix))"
   ]
  },
  {
   "cell_type": "code",
   "execution_count": 87,
   "metadata": {},
   "outputs": [
    {
     "name": "stdout",
     "output_type": "stream",
     "text": [
      "Coherence Score:  0.3003250898001881\n"
     ]
    }
   ],
   "source": [
    "#coherence score\n",
    "coherence_ldamodel = gensim.models.CoherenceModel(model=ldamodel, texts=sentences_swr_token, dictionary=dictionary, coherence='c_v')\n",
    "coherence_lda = coherence_ldamodel.get_coherence()\n",
    "print('Coherence Score: ', coherence_lda)"
   ]
  },
  {
   "cell_type": "markdown",
   "metadata": {},
   "source": [
    "This number of topics was chosen arbitrarely. However using coherence values we may be able to select a better number of topics. We want to select the number of topics which maximizes the coherence score."
   ]
  },
  {
   "cell_type": "code",
   "execution_count": 90,
   "metadata": {},
   "outputs": [],
   "source": [
    "#method for computing coherence values over a range of different topics\n",
    "def compute_coherence_values(dictionary, corpus, texts, limit, start=2, step=3):\n",
    "    coherence_values = []\n",
    "    model_list = []\n",
    "    for num_topics in range(start, limit, step):\n",
    "        model = gensim.models.ldamodel.LdaModel(corpus=corpus, num_topics=num_topics, id2word=dictionary)\n",
    "        model_list.append(model)\n",
    "        coherenceModel = gensim.models.CoherenceModel(model=model, texts=texts, dictionary=dictionary, coherence='c_v')\n",
    "        coherence_values.append(coherenceModel.get_coherence())\n",
    "    \n",
    "    return model_list, coherence_values"
   ]
  },
  {
   "cell_type": "code",
   "execution_count": 91,
   "metadata": {},
   "outputs": [],
   "source": [
    "model_list, coherence_values = compute_coherence_values(dictionary=dictionary, corpus=doc_term_matrix, texts=sentences_swr_token, start=2, limit=30, step=1)"
   ]
  },
  {
   "cell_type": "code",
   "execution_count": 96,
   "metadata": {},
   "outputs": [
    {
     "data": {
      "image/png": "[encoded data removed]",
      "text/plain": [
       "<Figure size 432x288 with 1 Axes>"
      ]
     },
     "metadata": {
      "needs_background": "light"
     },
     "output_type": "display_data"
    }
   ],
   "source": [
    "#plot\n",
    "x = range(2, 30, 1)\n",
    "plt.plot(x, coherence_values)\n",
    "plt.xlabel(\"Number of Topics\")\n",
    "plt.ylabel(\"Coherence Score\")\n",
    "plt.legend((\"coherence_values\"), loc='best')\n",
    "plt.show()"
   ]
  },
  {
   "cell_type": "code",
   "execution_count": 95,
   "metadata": {},
   "outputs": [
    {
     "name": "stdout",
     "output_type": "stream",
     "text": [
      "Number of Topics:  2 , Coherence Score:  0.1906\n",
      "Number of Topics:  3 , Coherence Score:  0.2285\n",
      "Number of Topics:  4 , Coherence Score:  0.2822\n",
      "Number of Topics:  5 , Coherence Score:  0.2737\n",
      "Number of Topics:  6 , Coherence Score:  0.3071\n",
      "Number of Topics:  7 , Coherence Score:  0.2923\n",
      "Number of Topics:  8 , Coherence Score:  0.2771\n",
      "Number of Topics:  9 , Coherence Score:  0.2629\n",
      "Number of Topics:  10 , Coherence Score:  0.2929\n",
      "Number of Topics:  11 , Coherence Score:  0.2759\n",
      "Number of Topics:  12 , Coherence Score:  0.289\n",
      "Number of Topics:  13 , Coherence Score:  0.3053\n",
      "Number of Topics:  14 , Coherence Score:  0.297\n",
      "Number of Topics:  15 , Coherence Score:  0.2811\n",
      "Number of Topics:  16 , Coherence Score:  0.2863\n",
      "Number of Topics:  17 , Coherence Score:  0.2831\n",
      "Number of Topics:  18 , Coherence Score:  0.2845\n",
      "Number of Topics:  19 , Coherence Score:  0.299\n",
      "Number of Topics:  20 , Coherence Score:  0.2887\n",
      "Number of Topics:  21 , Coherence Score:  0.2694\n",
      "Number of Topics:  22 , Coherence Score:  0.2916\n",
      "Number of Topics:  23 , Coherence Score:  0.3043\n",
      "Number of Topics:  24 , Coherence Score:  0.2985\n",
      "Number of Topics:  25 , Coherence Score:  0.2902\n",
      "Number of Topics:  26 , Coherence Score:  0.3101\n",
      "Number of Topics:  27 , Coherence Score:  0.3021\n",
      "Number of Topics:  28 , Coherence Score:  0.3232\n",
      "Number of Topics:  29 , Coherence Score:  0.3157\n"
     ]
    }
   ],
   "source": [
    "#printing coherence scores\n",
    "for m, cv in zip(x, coherence_values):\n",
    "    print(\"Number of Topics: \", m, \", Coherence Score: \", round(cv, 4))"
   ]
  },
  {
   "cell_type": "markdown",
   "metadata": {},
   "source": [
    "## Summary"
   ]
  },
  {
   "cell_type": "markdown",
   "metadata": {},
   "source": [
    "The LDA is a popular tool for text analysis. However it is difficult to evaluate whether the model is actually creating human interpretable topics. This is because LDA has an unsupervised training process. There is also no standard list of topics to compare against every corpus. This is why we use perplexity and coherence. The perplexity is a measure of how suprised the model is by data it has not yet seen before. It is measured as the normalized log likelihood of a held out test set. However since this metric is also not super correlated with human judgement the need for another metric is required. This is where topic coherence applies. Topic coherence measueres the score of a single topic based on its semantic simularity between high scoring words in the topic. "
   ]
  },
  {
   "cell_type": "markdown",
   "metadata": {},
   "source": [
    "The highest coherence score was 0.3232 for 28 topics, so in future it would be ideal to implement the lda model with 28 topics for best results."
   ]
  }
 ],
 "metadata": {
  "interpreter": {
   "hash": "855dab752b21802638f14cbf098561ec8dcae2aa7c62f20cd73c2d76ba7b2775"
  },
  "kernelspec": {
   "display_name": "Python 3.8.12 64-bit ('condaENV': conda)",
   "name": "python3"
  },
  "language_info": {
   "codemirror_mode": {
    "name": "ipython",
    "version": 3
   },
   "file_extension": ".py",
   "mimetype": "text/x-python",
   "name": "python",
   "nbconvert_exporter": "python",
   "pygments_lexer": "ipython3",
   "version": "3.8.12"
  },
  "orig_nbformat": 4
 },
 "nbformat": 4,
 "nbformat_minor": 2
}
